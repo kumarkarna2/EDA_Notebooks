{
 "cells": [
  {
   "cell_type": "markdown",
   "metadata": {},
   "source": [
    "# **Statistics**\n",
    "Statistics is the science of learning from data. It involves methods for collecting, summarizing, analyzing, and drawing conclusions from information. It provides tools to quantify and manage uncertainty.  It helps us understand variation within data and make informed decisions despite randomness or incomplete information."
   ]
  },
  {
   "cell_type": "markdown",
   "metadata": {},
   "source": [
    "### **Statistics Terminologies**\n",
    "Some of the most common terms you might come across in statistics are:\n",
    "\n",
    "- Population: It is actually a collection of a set of individual objects or events whose properties are to be analyzed.\n",
    "- Sample: It is the subset of a population.\n",
    "- Variable: It is a characteristic that can have different values.\n",
    "- Parameter: It is numerical characteristic of population."
   ]
  },
  {
   "cell_type": "markdown",
   "metadata": {},
   "source": [
    "## **Categories of Statistics**\n",
    "\n",
    "Statistics is broadly categorized into two main branches, each serving distinct purposes:\n",
    "\n",
    "**1. Descriptive Statistics**\n",
    "\n",
    "Descriptive statistics involve the methods used to summarize and describe essential features of a dataset.\n",
    "\n",
    "Common techniques include: -\n",
    "- Measures of central tendency (mean, median, mode)\n",
    "- Measures of variability (range, variance, standard deviation)\n",
    "-   Graphical representations (histograms, bar charts pie charts etc).\n",
    "\n",
    "\n",
    "**2. Inferential Statistics**\n",
    "\n",
    "Inferential statistics, on the other hand, extends findings from a sample to make predictions or inferences about a larger population.\n",
    "\n",
    "Common techniques include: -\n",
    "- Hypothesis testing\n",
    "- Regression analysis \n",
    "- Confidence intervals.\n"
   ]
  },
  {
   "cell_type": "markdown",
   "metadata": {},
   "source": [
    "<img src=\"https://i.ibb.co/LzDvJr3/oie-128206-RPBHp-Tai.png\" alt=\"oie-128206-RPBHp-Tai\" border=\"0\">"
   ]
  },
  {
   "cell_type": "markdown",
   "metadata": {},
   "source": [
    "### **1. Descriptive statistics**\n",
    "It helps us understand a group of things by using numbers, graphs, or tables. It gives a visual summary of the information about a population, making it easier to understand the data.\n",
    "\n",
    "There are two categories in this as follows.\n",
    "- Measure of Central Tendency\n",
    "- Measure of Variability"
   ]
  },
  {
   "cell_type": "markdown",
   "metadata": {},
   "source": [
    "#### **Measure of central tendency**\n",
    "It is also known as summary statistics that are used to represent the center point or a particular value of a data set or sample set. In statistics, there are three common measures of central tendency that are:\n",
    "\n",
    "- Mean\n",
    "- Median\n",
    "- Mode"
   ]
  },
  {
   "cell_type": "markdown",
   "metadata": {},
   "source": [
    "<b>Mean</b>\n",
    "It is the measure of the average of all values in a sample set. The mean of the data set is calculated using the formula:\n",
    "\n",
    "```\n",
    "Mean = ∑x/n\n",
    "```\n",
    "\n",
    "<b>Example: </b>"
   ]
  },
  {
   "cell_type": "code",
   "execution_count": 3,
   "metadata": {},
   "outputs": [
    {
     "name": "stdout",
     "output_type": "stream",
     "text": [
      "3.0\n"
     ]
    }
   ],
   "source": [
    "import numpy as np\n",
    "list = [1, 2, 3, 4, 5]\n",
    "mean = np.mean(list)\n",
    "print(mean)"
   ]
  },
  {
   "cell_type": "markdown",
   "metadata": {},
   "source": [
    "**Median** \n",
    "It is a way to figure out the middle value in a group of numbers. To find it, you first arrange the numbers from smallest to largest and then identify the one right in the middle. The formula for calculating the median in a dataset with 'n' terms is as follows:\n",
    "\n",
    "If n is Even\n",
    "```\n",
    "Median = [(n/2)th term + (n/2 + 1)th term]/2\n",
    "```\n",
    "\n",
    "If n is Odd\n",
    "```\n",
    "Median = (n + 1)/2\n",
    "```\n",
    "\n",
    "<b>Example: </b>"
   ]
  },
  {
   "cell_type": "code",
   "execution_count": 5,
   "metadata": {},
   "outputs": [
    {
     "name": "stdout",
     "output_type": "stream",
     "text": [
      "4.0\n"
     ]
    }
   ],
   "source": [
    "import numpy as np\n",
    "list = [1, 2, 4,3, 5, 4, 5]\n",
    "median = np.median(list)\n",
    "print(median)"
   ]
  },
  {
   "cell_type": "markdown",
   "metadata": {},
   "source": [
    "<b>Note :</b> Numpy automatically sorts the list in ascending order before finding the median."
   ]
  },
  {
   "cell_type": "markdown",
   "metadata": {},
   "source": [
    "**Mode**\n",
    "It is the value that appears most often in a group of numbers. To find the mode, you look for the term with the highest frequency, meaning the one that occurs the most times.\n",
    "\n",
    "In given list {2, 3, 4, 2, 4, 6, 4, 7, 7, 4, 2, 4}\n",
    "\n",
    "The number 4 appears most frequently\n",
    "\n",
    "Therefore mode is 4.\n",
    "\n",
    "<b>Example: </b>"
   ]
  },
  {
   "cell_type": "code",
   "execution_count": 7,
   "metadata": {},
   "outputs": [
    {
     "name": "stdout",
     "output_type": "stream",
     "text": [
      "Mode: 4\n"
     ]
    }
   ],
   "source": [
    "import numpy as np\n",
    "\n",
    "data_list = [2, 3, 4, 2, 4, 6, 4, 7, 7, 4, 2, 4]\n",
    "unique_elements, counts = np.unique(data_list, return_counts=True)\n",
    "mode_index = np.argmax(counts)\n",
    "mode = unique_elements[mode_index]\n",
    "\n",
    "print(\"Mode:\", mode)"
   ]
  },
  {
   "cell_type": "markdown",
   "metadata": {},
   "source": [
    "Another Way\n"
   ]
  },
  {
   "cell_type": "code",
   "execution_count": 5,
   "metadata": {},
   "outputs": [
    {
     "name": "stdout",
     "output_type": "stream",
     "text": [
      "Mode is: 4\n"
     ]
    }
   ],
   "source": [
    "from statistics import mode\n",
    "print(\"Mode is:\", mode([2, 3, 4, 2, 4, 6, 4, 7, 7, 4, 2, 4]))"
   ]
  },
  {
   "cell_type": "markdown",
   "metadata": {},
   "source": [
    "#### **Variability**\n",
    "It is also called dispersion, is a measure used to describe how spread out or diverse the values are in a sample or population. In statistics, three common measures of variability are frequently used:\n",
    "\n",
    "<b>Range</b>\n",
    " - Represents the difference between the highest and lowest values in a dataset.\n",
    " - Calculated by subtracting the minimum value from the maximum value.\n",
    "\n",
    "  ```\n",
    "  Range = Maximum value – Minimum value\n",
    "  ```\n",
    "\n",
    "<b>Variance</b>\n",
    " - Quantifies the average squared deviation of each data point from the mean (average).\n",
    " - Provides a more detailed measure of how individual values differ from the mean.\n",
    " - Involves squaring the differences, which gives more weight to larger deviations.\n",
    "\n",
    "  ```\n",
    "  S2= ∑ni=1 [(xi – ͞x)2 / n]\n",
    "  ```\n",
    "  - n represents total data points\n",
    "  - ͞x represents the mean of data points\n",
    "  - xi represents individual data points\n",
    "\n",
    "<b>Standard Deviation</b>\n",
    "\n",
    "  - Represents the square root of the variance.\n",
    "  - Offers a measure of the average distance between each data point and the mean.\n",
    "  - Provides a more interpretable measure compared to variance, as it is in the same units as the original data.\n",
    "\n",
    "  ```\n",
    "  σ= √ (1/n) ∑ni=1 (xi – μ)2\n",
    "  ```\n",
    "<b>Dispersion</b>\n",
    "\n",
    "  - Refers to the degree of spread or variability in statistical data.\n",
    "  - Provides insights into how individual values deviate from a central measure, often the mean.\n",
    "  - Higher dispersion signifies a wider distribution of values.\n",
    "  - Lower dispersion suggests values are more tightly clustered around the central measure.\n"
   ]
  },
  {
   "cell_type": "code",
   "execution_count": 6,
   "metadata": {},
   "outputs": [
    {
     "name": "stdout",
     "output_type": "stream",
     "text": [
      "4\n"
     ]
    }
   ],
   "source": [
    "#range\n",
    "import numpy as np\n",
    "list = [1, 2, 3, 4, 5]\n",
    "range = np.ptp(list)\n",
    "print(range)"
   ]
  },
  {
   "cell_type": "code",
   "execution_count": 7,
   "metadata": {},
   "outputs": [
    {
     "name": "stdout",
     "output_type": "stream",
     "text": [
      "2.0\n"
     ]
    }
   ],
   "source": [
    "#varience\n",
    "import numpy as np\n",
    "list = [1, 2, 3, 4, 5]\n",
    "varience = np.var(list)\n",
    "print(varience)"
   ]
  },
  {
   "cell_type": "code",
   "execution_count": 8,
   "metadata": {},
   "outputs": [
    {
     "name": "stdout",
     "output_type": "stream",
     "text": [
      "1.4142135623730951\n"
     ]
    }
   ],
   "source": [
    "#standard deviation\n",
    "import numpy as np\n",
    "list = [1, 2, 3, 4, 5]\n",
    "standard_deviation = np.std(list)\n",
    "print(standard_deviation)"
   ]
  },
  {
   "cell_type": "markdown",
   "metadata": {},
   "source": [
    "#### **Quartile**\n",
    "quartile is a measure that divides a data set into four equal parts, each representing 25% of the data. The quartiles are three values that divide the dataset into four intervals. The quartiles are often denoted as Q1, Q2, and Q3, representing the first quartile, the second quartile (also known as the median), and the third quartile, respectively.\n",
    "\n",
    "**First Quartile (Q1):**\n",
    "\n",
    "Q1 is the value below which 25% of the data falls. It separates the lowest 25% of the dataset.\n",
    "\n",
    "**Second Quartile (Q2):**\n",
    "\n",
    "Q2 is the median, representing the middle value of the dataset when it is ordered. It divides the data into two halves, with 50% below and 50% above.\n",
    "\n",
    "**Third Quartile (Q3):**\n",
    "\n",
    "Q3 is the value below which 75% of the data falls. It separates the lowest 75% of the dataset."
   ]
  },
  {
   "cell_type": "code",
   "execution_count": 11,
   "metadata": {},
   "outputs": [],
   "source": [
    "import pandas as pd\n",
    "\n",
    "list = [1, 2, 3, 4, 5]\n",
    "list = pd.Series(list)\n",
    "q1 = list.quantile(0.25)\n",
    "q2 = list.quantile(0.5)\n",
    "q3 = list.quantile(0.75)\n",
    "\n",
    "print(\"Q1:\", q1)\n",
    "print(\"Q2:\", q2)\n",
    "print(\"Q3:\", q3)"
   ]
  },
  {
   "cell_type": "markdown",
   "metadata": {},
   "source": [
    "Another way"
   ]
  },
  {
   "cell_type": "code",
   "execution_count": 12,
   "metadata": {},
   "outputs": [
    {
     "name": "stdout",
     "output_type": "stream",
     "text": [
      "Q1: 2.0\n"
     ]
    }
   ],
   "source": [
    "#quartile\n",
    "import numpy as np\n",
    "list = [1, 2, 3, 4, 5]\n",
    "quartile = np.percentile(list, 25)\n",
    "print(\"Q1:\", quartile)"
   ]
  },
  {
   "cell_type": "markdown",
   "metadata": {},
   "source": [
    "#### **Interquartile Range (IQR)**\n",
    "\n",
    "The interquartile range (IQR) is a statistical measure that describes the spread or dispersion of a dataset. It is the range within which the middle 50% of the data values lie. The IQR is calculated as the difference between the third quartile (Q3) and the first quartile (Q1) in a dataset.\n",
    "\n",
    "Mathematically, the interquartile range is expressed as:\n",
    "IQR=Q3−Q1\n",
    "\n",
    "Where:\n",
    "- Q1 is the first quartile (25th percentile),\n",
    "- Q3 is the third quartile (75th percentile)."
   ]
  },
  {
   "cell_type": "code",
   "execution_count": 14,
   "metadata": {},
   "outputs": [
    {
     "name": "stdout",
     "output_type": "stream",
     "text": [
      "IQR: 2.0\n"
     ]
    }
   ],
   "source": [
    "import pandas as pd\n",
    "\n",
    "list = [1, 2, 3, 4, 5]\n",
    "list = pd.Series(list)\n",
    "\n",
    "q1 = list.quantile(0.25)\n",
    "q3 = list.quantile(0.75)\n",
    "iqr = q3 - q1\n",
    "print(\"IQR:\", iqr)"
   ]
  },
  {
   "cell_type": "markdown",
   "metadata": {},
   "source": [
    "#### **Graphical Representation**\n",
    "\n",
    "Graphical representation is a visual method used to display data in a meaningful and accessible way. This approach helps in the interpretation of complex information and facilitates a clearer understanding. Common types of graphical representation include:\n",
    "\n",
    "- **Bar Charts:**\n",
    "\n",
    "Bar charts use bars of varying lengths or heights to represent different categories or groups, making comparisons easy.\n"
   ]
  },
  {
   "cell_type": "code",
   "execution_count": 8,
   "metadata": {},
   "outputs": [
    {
     "data": {
      "image/png": "[encoded data removed]",
      "text/plain": [
       "<Figure size 640x480 with 1 Axes>"
      ]
     },
     "metadata": {},
     "output_type": "display_data"
    }
   ],
   "source": [
    "import matplotlib.pyplot as plt\n",
    "import numpy as np\n",
    "\n",
    "x = np.array([\"A\", \"B\", \"C\", \"D\"])\n",
    "y = np.array([3, 8, 1, 10])\n",
    "plt.bar(x,y)\n",
    "plt.show()"
   ]
  },
  {
   "cell_type": "markdown",
   "metadata": {},
   "source": [
    "- **Line Graphs:**\n",
    "\n",
    "Line graphs display data points connected by lines, illustrating trends and changes over a continuous interval."
   ]
  },
  {
   "cell_type": "code",
   "execution_count": 9,
   "metadata": {},
   "outputs": [
    {
     "data": {
      "image/png": "[encoded data removed]",
      "text/plain": [
       "<Figure size 640x480 with 1 Axes>"
      ]
     },
     "metadata": {},
     "output_type": "display_data"
    }
   ],
   "source": [
    "import matplotlib.pyplot as plt\n",
    "import numpy as np\n",
    "\n",
    "x = np.array([\"A\", \"B\", \"C\", \"D\"])\n",
    "y = np.array([3, 8, 1, 10])\n",
    "plt.plot(x,y)\n",
    "plt.show()"
   ]
  },
  {
   "cell_type": "markdown",
   "metadata": {},
   "source": [
    "- **Pie Charts:**\n",
    "\n",
    "Pie charts represent data in a circular graph, where each sector corresponds to a proportion of the whole, highlighting the relative sizes of different components."
   ]
  },
  {
   "cell_type": "code",
   "execution_count": 10,
   "metadata": {},
   "outputs": [
    {
     "data": {
      "image/png": "[encoded data removed]",
      "text/plain": [
       "<Figure size 640x480 with 1 Axes>"
      ]
     },
     "metadata": {},
     "output_type": "display_data"
    }
   ],
   "source": [
    "import matplotlib.pyplot as plt\n",
    "import numpy as np\n",
    "\n",
    "y = np.array([35, 25, 25, 15])\n",
    "mylabels = [\"Apples\", \"Bananas\", \"Cherries\", \"Dates\"]\n",
    "plt.pie(y, labels=mylabels)\n",
    "plt.show()"
   ]
  },
  {
   "cell_type": "markdown",
   "metadata": {},
   "source": [
    "- **Histograms:**\n",
    "\n",
    "Histograms use bars to represent the frequency distribution of continuous data, helping visualize the shape of the data distribution."
   ]
  },
  {
   "cell_type": "code",
   "execution_count": 14,
   "metadata": {},
   "outputs": [
    {
     "data": {
      "image/png": "[encoded data removed]",
      "text/plain": [
       "<Figure size 640x480 with 1 Axes>"
      ]
     },
     "metadata": {},
     "output_type": "display_data"
    }
   ],
   "source": [
    "import matplotlib.pyplot as plt\n",
    "import numpy as np\n",
    "\n",
    "x = np.random.normal(170, 10, 250)\n",
    "plt.hist(x)\n",
    "plt.show()"
   ]
  },
  {
   "cell_type": "markdown",
   "metadata": {},
   "source": [
    "- **Scatter Plots:**\n",
    "\n",
    "Scatter plots display individual data points on a two-dimensional graph, showing the relationship between two variables."
   ]
  },
  {
   "cell_type": "code",
   "execution_count": 16,
   "metadata": {},
   "outputs": [
    {
     "data": {
      "image/png": "[encoded data removed]",
      "text/plain": [
       "<Figure size 640x480 with 1 Axes>"
      ]
     },
     "metadata": {},
     "output_type": "display_data"
    }
   ],
   "source": [
    "import matplotlib.pyplot as plt\n",
    "import numpy as np\n",
    "\n",
    "x = np.random.normal(170, 10, 250)\n",
    "y = np.random.normal(170, 10, 250)\n",
    "plt.scatter(x,y, c=\"#27b475\", marker=\"*\")\n",
    "plt.show()"
   ]
  },
  {
   "cell_type": "markdown",
   "metadata": {},
   "source": [
    "- **Box-and-Whisker Plots:**\n",
    "\n",
    "Box-and-whisker plots provide a visual summary of the distribution of a dataset, highlighting measures such as the median, quartiles, and potential outliers.\n",
    "\n",
    "**Note:** We'll cover these techniques in detail during the data visualization."
   ]
  },
  {
   "cell_type": "code",
   "execution_count": 15,
   "metadata": {},
   "outputs": [
    {
     "data": {
      "image/png": "[encoded data removed]",
      "text/plain": [
       "<Figure size 640x480 with 1 Axes>"
      ]
     },
     "metadata": {},
     "output_type": "display_data"
    }
   ],
   "source": [
    "import matplotlib.pyplot as plt\n",
    "import numpy as np\n",
    "\n",
    "x = np.random.normal(170, 10, 250)\n",
    "plt.boxplot(x)\n",
    "plt.show()"
   ]
  },
  {
   "cell_type": "markdown",
   "metadata": {},
   "source": [
    "### **2. Inferential Statistics**\n",
    "\n",
    "Inferential statistics is a branch of statistics that involves making predictions, inferences, or generalizations about a population based on data collected from a sample. It extends findings from a smaller group to draw broader conclusions about the larger population.\n",
    "\n",
    "**Types of Inferential Statistics:**\n",
    "Various types of inferential statistics are used widely nowadays and are very easy to interpret. These are given below:\n",
    "\n",
    "- One sample test of difference/One sample hypothesis test\n",
    "- Confidence Interval\n",
    "- Contingency Tables and Chi-Square Statistic\n",
    "- T-test or Anova\n",
    "- Pearson Correlation\n",
    "- Bivariate Regression\n",
    "- Multi-variate Regression"
   ]
  },
  {
   "cell_type": "markdown",
   "metadata": {},
   "source": [
    "## **Data in Statistics**\n",
    "Data in statistics refers to a collection of numbers, words, or any elements that can be organized to convey meaningful information.\n",
    "\n",
    "#### **Types of data**\n",
    "\n",
    "<img src=\"https://i.ibb.co/WHGqHdj/image.png\" alt=\"image\" border=\"0\">"
   ]
  },
  {
   "cell_type": "markdown",
   "metadata": {},
   "source": [
    "**1. Quantitative data:** Quantitative data involves providing numerical information about an object.\n",
    "   - **Discrete Data:** This type of data consists of countable values and often represents whole numbers.\n",
    "  \n",
    "   **Example:** The number of students in a class, quantity of products or the number of cars in a parking lot."
   ]
  },
  {
   "cell_type": "code",
   "execution_count": 22,
   "metadata": {},
   "outputs": [
    {
     "name": "stdout",
     "output_type": "stream",
     "text": [
      "{'Samsung': 500, 'Apple': 30, 'Nokia': 10, 'LG': 450, 'Sony': 200}\n"
     ]
    }
   ],
   "source": [
    "Product_List = {\"Samsung\": 500, \"Apple\": 30, \"Nokia\": 10, \"LG\": 450, \"Sony\": 200}\n",
    "print(Product_List)"
   ]
  },
  {
   "cell_type": "markdown",
   "metadata": {},
   "source": [
    "\n",
    "   - **Continuous Data:** Continuous data represents measurements that can take any value within a given range. Examples include \n",
    "   \n",
    "   **Example:** Temperature, height, and weight."
   ]
  },
  {
   "cell_type": "code",
   "execution_count": 23,
   "metadata": {},
   "outputs": [
    {
     "name": "stdout",
     "output_type": "stream",
     "text": [
      "{'P_ID001': 86.5, 'P_ID002': 91.3, 'P_ID003': 45.8, 'P_ID004': 78.2, 'P_ID005': 80.3}\n"
     ]
    }
   ],
   "source": [
    "Patients_Weight = {\n",
    "    \"P_ID001\": 86.5,\n",
    "    \"P_ID002\": 91.3,\n",
    "    \"P_ID003\": 45.8,\n",
    "    \"P_ID004\": 78.2,\n",
    "    \"P_ID005\": 80.3,\n",
    "}\n",
    "print(Patients_Weight)"
   ]
  },
  {
   "cell_type": "markdown",
   "metadata": {},
   "source": [
    "**2. Qualitative data:** Qualitative data involves providing descriptive information about an object. \n",
    "   - **Nominal Data:** Nominal data represents categories or labels with no inherent order. \n",
    "\n",
    "   **Example:** Colors, types of fruit, or gender."
   ]
  },
  {
   "cell_type": "code",
   "execution_count": 24,
   "metadata": {},
   "outputs": [],
   "source": [
    "ans1 = input(\"Would you like to go for shopping? if yes then type Y / y else N/n\")\n",
    "ans2 = input(\"Do you love talking on any topic? if yes then type Y / y else N/n\")\n",
    "\n",
    "if ((ans1 == \"Y\") | (ans1 == \"y\")) & ((ans2 == \"Y\") | (ans2 == \"y\")):\n",
    "    print(\"Welcome to girls club\")\n",
    "else:\n",
    "    print(\"Sorry boys, you can not join the club\")"
   ]
  },
  {
   "cell_type": "markdown",
   "metadata": {},
   "source": [
    "   - **Ordinal Data:** Ordinal data represents categories with a specific order or ranking\n",
    "   \n",
    "   **Example:** Survey responses such as \"strongly agree,\" \"agree,\" \"neutral,\" \"disagree,\" and \"strongly disagree.\""
   ]
  },
  {
   "cell_type": "code",
   "execution_count": 2,
   "metadata": {},
   "outputs": [
    {
     "name": "stdout",
     "output_type": "stream",
     "text": [
      "Second Class\n"
     ]
    }
   ],
   "source": [
    "marks = int(input(\"Enter your percentage\"))\n",
    "\n",
    "if marks <= 40:\n",
    "    print(\"Fail\")\n",
    "elif (marks > 40) & (marks <= 50):\n",
    "    print(\"Second Class\")\n",
    "elif (marks > 50) & (marks <= 60):\n",
    "    print(\"First Class\")\n",
    "elif marks >= 60:\n",
    "    print(\"Congratulations!! You got distinction\")"
   ]
  },
  {
   "cell_type": "markdown",
   "metadata": {},
   "source": [
    "### **Sample & Population**\n",
    "\n",
    "**Population**\n",
    "\n",
    "In statistics, a population refers to the entire group of individuals, items, or events that share a common characteristic. \n",
    "\n",
    "**Examples:**\n",
    "- All students enrolled in a university.\n",
    "- All smartphones produced by a specific manufacturer.\n",
    "- All registered voters in a country.\n",
    "\n",
    "**Sample**\n",
    "\n",
    "A sample, on the other hand, is a subset of the population chosen for detailed study.\n",
    "\n",
    "**Examples:**\n",
    "- Selecting 100 students from the entire university population for a survey.\n",
    "- Testing a random sample of 500 smartphones to assess their performance.\n",
    "- Conducting a poll with 1,000 registered voters to gauge political preferences."
   ]
  },
  {
   "cell_type": "markdown",
   "metadata": {},
   "source": [
    "### **Data Distribution**\n",
    "\n",
    "The distribution is about how the data is scattered or grouped around specific values or ranges.\n",
    "\n",
    " **Types of Distribution :**\n",
    "Distributions are basically classified based on the type of data (Typically discreet or continuous)\n"
   ]
  },
  {
   "cell_type": "markdown",
   "metadata": {},
   "source": [
    "#### **Discrete Distribution**\n",
    "\n",
    "Discrete distribution describes data that can only take on specific, countable values. Think of things you can easily count, like the number of dots on a domino, the number of customers served at a restaurant in an hour, or the number of correct answers on a multiple-choice quiz.\n",
    "\n",
    "**Simply Discrete= counted**\n",
    "\n",
    "Different types of discreet distributions are"
   ]
  },
  {
   "cell_type": "markdown",
   "metadata": {},
   "source": [
    "#### **Binomial distribution**\n",
    "- The binomial distribution measures the probability of the number of successes or failure outcomes in an experiment on each try.\n",
    "- Characteristics are classified into two mutually exclusive and exhaustive classes, such as the number of successes/failures and the number accepted/rejected that follow a binomial distribution."
   ]
  },
  {
   "cell_type": "markdown",
   "metadata": {},
   "source": [
    "**Example**\n",
    "\n",
    "- The probability of getting exactly 5 heads out of 10 coin flips is 0.5."
   ]
  },
  {
   "cell_type": "code",
   "execution_count": 26,
   "metadata": {},
   "outputs": [
    {
     "data": {
      "image/png": "[encoded data removed]",
      "text/plain": [
       "<Figure size 640x480 with 1 Axes>"
      ]
     },
     "metadata": {},
     "output_type": "display_data"
    }
   ],
   "source": [
    "# Simple Binomial Distribution Example\n",
    "\n",
    "import matplotlib.pyplot as plt\n",
    "import numpy as np\n",
    "from scipy.stats import binom\n",
    "\n",
    "x = np.arange(0, 10)\n",
    "probabilities = binom.pmf(x, 9, 0.5)\n",
    "\n",
    "plt.plot(x, probabilities, 'o-')\n",
    "plt.vlines(x, 0, probabilities, colors=\"g\")\n",
    "plt.show()"
   ]
  },
  {
   "cell_type": "markdown",
   "metadata": {},
   "source": [
    "#### **Poisson distribution**\n",
    "- The Poisson distribution is the discrete probability distribution that measures the likelihood of a number of events occurring in a given period when the events occur one after another in a well-defined manner.\n",
    "- Characteristics that can theoretically take large values but actually take small values have Poisson distribution.\n",
    "\n",
    "**Example:** Number of defects, errors, accidents, absentees, etc."
   ]
  },
  {
   "cell_type": "code",
   "execution_count": 27,
   "metadata": {},
   "outputs": [
    {
     "data": {
      "image/png": "[encoded data removed]",
      "text/plain": [
       "<Figure size 640x480 with 1 Axes>"
      ]
     },
     "metadata": {},
     "output_type": "display_data"
    }
   ],
   "source": [
    "#poisson distribution\n",
    "import matplotlib.pyplot as plt\n",
    "import numpy as np\n",
    "from scipy.stats import poisson\n",
    "\n",
    "x = np.arange(0, 10)\n",
    "probabilities = poisson.pmf(x, 2)\n",
    "\n",
    "plt.plot(x, probabilities, 'o-')\n",
    "plt.vlines(x, 0, probabilities, colors=\"g\")\n",
    "plt.show()"
   ]
  }
 ],
 "metadata": {
  "kernelspec": {
   "display_name": "Python 3",
   "language": "python",
   "name": "python3"
  },
  "language_info": {
   "codemirror_mode": {
    "name": "ipython",
    "version": 3
   },
   "file_extension": ".py",
   "mimetype": "text/x-python",
   "name": "python",
   "nbconvert_exporter": "python",
   "pygments_lexer": "ipython3",
   "version": "3.12.2"
  }
 },
 "nbformat": 4,
 "nbformat_minor": 2
}
