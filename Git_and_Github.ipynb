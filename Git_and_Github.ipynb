{
  "cells": [
    {
      "cell_type": "markdown",
      "metadata": {
        "id": "dSVieLKLfgfn"
      },
      "source": [
        "## **Introduction to GitHub & Git**"
      ]
    },
    {
      "cell_type": "markdown",
      "metadata": {
        "id": "O0F5w_Erfk77"
      },
      "source": [
        "**Git**: Git is a free and open source distributed version control system. Git’s purpose is to keep track of projects and files as they change over time with manipulations happening from different users. Git stores information about the project’s progress on a repository. A repository has commits to the project or a set of references to the commits called heads. All this information is stored in the same folder as the project in a sub-folder called .git and will mostly be hidden by default in most systems.\n"
      ]
    },
    {
      "cell_type": "markdown",
      "metadata": {
        "id": "yH5HXx4ofq5j"
      },
      "source": [
        "So basically. Git keeps track of the changes a couple of people make on a single project and then merges the code where people have worked on different parts into one project. This way, when someone introduces a bug, you can track down the code that introduced the bug by going through the commits. Commits must be made to a project to tell git that you’re satisfied with the changes you’ve made and want to commit the changes into the main branch called master by default.\n",
        "You can then upload the code to GitHub or BitBucket where authorised users can either view, pull the code or push changes."
      ]
    },
    {
      "cell_type": "markdown",
      "metadata": {
        "id": "SC9_Vp3Vf0RW"
      },
      "source": [
        "**GitHub:**"
      ]
    },
    {
      "cell_type": "markdown",
      "metadata": {
        "id": "tzw9XuabgQAn"
      },
      "source": [
        "Humans have always thought of ways to connect and to work together as a team, over the years we have created new ways to connect virtually allowing us to work together without having to worry about the distance. Applications like Facebook and Twitter are now indispensable for us. Almost all video games allow you to play online with friends or strangers from all over the world. GitHub is another one of these pieces of software that allow people to connect and work together in a more efficient, fast, and dynamic way. In this blog, I will explain how GitHub works and the different things that we can use it for."
      ]
    },
    {
      "cell_type": "markdown",
      "metadata": {
        "id": "nHaUOxGDgklZ"
      },
      "source": [
        "**Before using Git we should know why we need it:-**\n",
        "\n",
        "- Git makes it easy to contribute to open-source projects\n",
        "- Documentation.\n",
        "- Integration Option.\n",
        "- Track changes in your code across versions\n",
        "- Deployment.\n",
        "1. **Install Git**\n",
        "First, you need to install the version control software, Git.\n",
        "2. **Configure your name and your email**\n",
        "    \n",
        "    The global git username and email address are associated with commits on all repositories on your system that don’t have repository-specific values.\n",
        "    \n",
        "    To set your global commit name and email address run the git config command with the --global option."
      ]
    },
    {
      "cell_type": "code",
      "execution_count": null,
      "metadata": {
        "id": "hqyFd-r-go4p"
      },
      "outputs": [],
      "source": [
        "git config --global user.name \"Your Name\"\n",
        "git config --global user.email \"youremail@yourdomain.com\""
      ]
    },
    {
      "cell_type": "markdown",
      "metadata": {
        "id": "xSY3KC3Lgup8"
      },
      "source": [
        "After that, execute the following command to verify that the information is correct:"
      ]
    },
    {
      "cell_type": "code",
      "execution_count": null,
      "metadata": {
        "id": "pyEjQQ6qgs7s"
      },
      "outputs": [],
      "source": [
        "git config --list"
      ]
    },
    {
      "cell_type": "markdown",
      "metadata": {
        "id": "Zl6yA5fRgx1b"
      },
      "source": [
        "Output:-"
      ]
    },
    {
      "cell_type": "code",
      "execution_count": null,
      "metadata": {
        "id": "aElbkuDtg1DY"
      },
      "outputs": [],
      "source": [
        "user.name=Your Name\n",
        "user.email=youremail@yourdomain.com"
      ]
    },
    {
      "cell_type": "markdown",
      "metadata": {
        "id": "gRBnlqWLg9p9"
      },
      "source": [
        "## **What is Repository ?**"
      ]
    },
    {
      "cell_type": "markdown",
      "metadata": {
        "id": "QyO351pWhMzm"
      },
      "source": [
        "In simple terms, a repository (often shortened to \"repo\") in Git is like a folder or storage space where you keep all the files and information related to a project. It's a place where you can store and manage the different versions of your project's files.\n",
        "\n",
        "Imagine you are working on a document, and you want to save different drafts or versions. Instead of creating multiple copies of the entire document, you can use a Git repository to keep track of the changes you make over time. This allows you to easily go back to previous versions, collaborate with others, and keep your project organized.\n",
        "\n",
        "In Git, a repository can be local (on your computer) or remote (on a server or online platform like GitHub). The combination of both, where you have a local copy on your computer and a remote copy on a server, is a common setup for version control using Git.\n",
        "\n",
        "**1. Initialize Git**\n",
        "\n",
        "To create a new repo, you'll use the git init command. git init is a one-time command you use during the initial setup of a new repo. Executing this command will create a new .git subdirectory in your current working directory."
      ]
    },
    {
      "cell_type": "code",
      "execution_count": null,
      "metadata": {
        "id": "LIuZtdfIhPZ4"
      },
      "outputs": [],
      "source": [
        "git init"
      ]
    },
    {
      "cell_type": "markdown",
      "metadata": {
        "id": "YjKbhUY0hQ4U"
      },
      "source": [
        "Once, the repository is initialized git tracks the changes in the files and folders of the project.\n",
        "\n",
        "**2. git status**\n",
        "\n",
        "The **`git status`** command is used in Git to display information about the current state of your working directory and staging area. When you run **`git status`**, Git provides information such as:"
      ]
    },
    {
      "cell_type": "markdown",
      "metadata": {
        "id": "3pBt-04AhVVe"
      },
      "source": [
        "1. **On branch:** Indicates the current branch you are working on.\n",
        "2. **Changes not staged for commit:** Lists the modifications made to files that have not been added to the staging area. These are changes that Git is aware of but hasn't prepared for the next commit.\n",
        "3. **Untracked files:** Shows files in your working directory that Git is not currently tracking.\n",
        "4. **Changes to be committed:** Displays the files that have been added to the staging area and are ready to be committed in the next Git commit.\n",
        "\n",
        "**3. Add file to the staging area**\n",
        "\n",
        "The **`git add`** command is used in Git to add changes in your working directory to the staging area. The staging area is where you prepare changes before committing them to the Git repository. The basic syntax for **`git add`** is:"
      ]
    },
    {
      "cell_type": "code",
      "execution_count": null,
      "metadata": {
        "id": "fCccqyJmhXnB"
      },
      "outputs": [],
      "source": [
        "\n",
        "git add <file>"
      ]
    },
    {
      "cell_type": "markdown",
      "metadata": {
        "id": "Qq9jKHgwhZh1"
      },
      "source": [
        "You replace <file> with the name of the file you want to stage. You can also use wildcards or specify multiple files and directories:"
      ]
    },
    {
      "cell_type": "code",
      "execution_count": null,
      "metadata": {
        "id": "Gxa4x8SMhZ5a"
      },
      "outputs": [],
      "source": [
        "# Stage a specific file\n",
        "git add filename.txt\n",
        "\n",
        "# Stage all changes in the current directory and its subdirectories\n",
        "git add .\n",
        "\n",
        "# Stage all changes (equivalent to git add .)\n",
        "git add -A"
      ]
    },
    {
      "cell_type": "markdown",
      "metadata": {
        "id": "1pM-uJN6hd2G"
      },
      "source": [
        "After using git add, the changes are \"staged\" and ready to be committed. Staging allows you to selectively include only the changes you want in the next commit. Once you've added the changes to the staging area, you can commit them using the git commit command."
      ]
    },
    {
      "cell_type": "code",
      "execution_count": null,
      "metadata": {
        "id": "DbT26EMKhpRn"
      },
      "outputs": [],
      "source": [
        "git commit -m \"Your commit message\""
      ]
    },
    {
      "cell_type": "markdown",
      "metadata": {
        "id": "53cpzooChqmj"
      },
      "source": [
        "This commits the staged changes, creating a new snapshot in the Git history with your provided commit message. The git add command is a crucial step in the Git workflow, allowing you to control which changes are included in your commits."
      ]
    },
    {
      "cell_type": "markdown",
      "metadata": {
        "id": "DYMgrv4eiI9x"
      },
      "source": [
        "## To Unstage a File\n",
        "\n",
        "The **`git rm --cached`** command is used to untrack files from Git without deleting them from your working directory. It effectively removes the files from the staging area (index), making Git stop tracking changes to those files. The changes in your working directory are preserved.\n",
        "\n",
        "Here's a step-by-step guide on how to use **`git rm --cached`** in more detail:\n",
        "\n",
        "let's go through a detailed example of using **`git rm --cached`** with sample output at each step. Assume we have a repository with a file named **`example.txt`** that is currently being tracked by Git.\n",
        "\n",
        "### **1. Initial Status:**"
      ]
    },
    {
      "cell_type": "code",
      "execution_count": null,
      "metadata": {
        "id": "-6D2MZziiPFY"
      },
      "outputs": [],
      "source": [
        "$ git status"
      ]
    },
    {
      "cell_type": "markdown",
      "metadata": {
        "id": "8_aCeFLNiQco"
      },
      "source": [
        "Output:"
      ]
    },
    {
      "cell_type": "code",
      "execution_count": null,
      "metadata": {
        "id": "6AM08AcRiQ8w"
      },
      "outputs": [],
      "source": [
        "On branch master\n",
        "Changes not staged for commit:\n",
        "  (use \"git add <file>...\" to update what will be committed)\n",
        "  (use \"git checkout -- <file>...\" to discard changes in working directory)\n",
        "\n",
        "        modified:   example.txt\n",
        "\n",
        "no changes added to commit (use \"git add\" and/or \"git commit -a\")"
      ]
    },
    {
      "cell_type": "markdown",
      "metadata": {
        "id": "2VEVJ218iUDV"
      },
      "source": [
        "### **2. Use git rm --cached:**"
      ]
    },
    {
      "cell_type": "code",
      "execution_count": null,
      "metadata": {
        "id": "Mh0upK2ajLsK"
      },
      "outputs": [],
      "source": [
        "$ git rm --cached example.txt"
      ]
    },
    {
      "cell_type": "markdown",
      "metadata": {
        "id": "2rWeFW_xjMrF"
      },
      "source": [
        "Output:"
      ]
    },
    {
      "cell_type": "code",
      "execution_count": null,
      "metadata": {
        "id": "vUBIPXy5jNsu"
      },
      "outputs": [],
      "source": [
        "rm 'example.txt'"
      ]
    },
    {
      "cell_type": "markdown",
      "metadata": {
        "id": "3rzfLZrujO-X"
      },
      "source": [
        "### **3. Check Status Again:**"
      ]
    },
    {
      "cell_type": "code",
      "execution_count": null,
      "metadata": {
        "id": "-w4zNQzTjRzc"
      },
      "outputs": [],
      "source": [
        "$ git status"
      ]
    },
    {
      "cell_type": "markdown",
      "metadata": {
        "id": "E0NypaJsjS-C"
      },
      "source": [
        "Output:"
      ]
    },
    {
      "cell_type": "code",
      "execution_count": null,
      "metadata": {
        "id": "3bOWZbnDjURk"
      },
      "outputs": [],
      "source": [
        "On branch master\n",
        "Changes to be committed:\n",
        "  (use \"git restore --staged <file>...\" to unstage)\n",
        "        deleted:    example.txt\n",
        "\n",
        "Untracked files:\n",
        "  (use \"git add <file>...\" to include in what will be committed)\n",
        "        example.txt"
      ]
    },
    {
      "cell_type": "markdown",
      "metadata": {
        "id": "76vrxJygjWvW"
      },
      "source": [
        "## **Commit the changes**\n",
        "\n",
        "The **`git commit`** command is a fundamental part of the Git version control system. It is used to save the changes you've made to your local repository. When you commit changes, you are creating a new snapshot of your project at a specific point in time.\n",
        "\n",
        "### **1. Purpose of `git commit`:**\n",
        "\n",
        "- **Snapshotting Changes:**\n",
        "    - Git works by keeping track of changes in your project over time. Each commit represents a snapshot of your project at a particular moment.\n",
        "    - Commits allow you to keep a history of your project and track the evolution of your codebase.\n",
        "- **Recording Changes with a Message:**\n",
        "    - A commit is not just a snapshot; it also comes with a message that describes the changes made in that commit.\n",
        "    - The commit message is a way to communicate with your future self and collaborators, providing context and understanding of why the changes were made.\n",
        "- **Rollback and Time Travel:**\n",
        "    - Commits enable you to go back to a previous state of your project. If something goes wrong or if you need to revisit an earlier version, you can easily do so by checking out a specific commit.\n",
        "    - This ability to \"time travel\" is a powerful feature of Git, providing safety and flexibility in managing your project's history.\n",
        "\n",
        "Let's walk through a simple example of using **`git commit`** with some sample commands and output. Assume we have a Git repository with a modified file named **`example.txt`** and we want to commit the changes."
      ]
    },
    {
      "cell_type": "markdown",
      "metadata": {
        "id": "J8wRbpVkjY-l"
      },
      "source": [
        "### **1. Check the Status:**"
      ]
    },
    {
      "cell_type": "code",
      "execution_count": null,
      "metadata": {
        "id": "7ruyzq_ljb-4"
      },
      "outputs": [],
      "source": [
        "$ git status"
      ]
    },
    {
      "cell_type": "markdown",
      "metadata": {
        "id": "-NCC76ZHjdGT"
      },
      "source": [
        "Output:"
      ]
    },
    {
      "cell_type": "code",
      "execution_count": null,
      "metadata": {
        "id": "b7gVRiQ-jeYy"
      },
      "outputs": [],
      "source": [
        "On branch main\n",
        "Changes not staged for commit:\n",
        "  (use \"git add <file>...\" to update what will be committed)\n",
        "  (use \"git restore <file>...\" to discard changes in working directory)\n",
        "        modified:   example.txt\n",
        "\n",
        "no changes added to commit (use \"git add\" and/or \"git commit -a\")\n",
        "\n"
      ]
    },
    {
      "cell_type": "markdown",
      "metadata": {
        "id": "iPY6tyuQjfs9"
      },
      "source": [
        "### **2. Stage the Changes:**"
      ]
    },
    {
      "cell_type": "code",
      "execution_count": null,
      "metadata": {
        "id": "rCIS25AEjg52"
      },
      "outputs": [],
      "source": [
        "$ git add example.txt"
      ]
    },
    {
      "cell_type": "markdown",
      "metadata": {
        "id": "9tL8sr_7jp8Y"
      },
      "source": [
        "### **3. Check Status Again (Optional):**"
      ]
    },
    {
      "cell_type": "code",
      "execution_count": null,
      "metadata": {
        "id": "APiRzhDfjmDb"
      },
      "outputs": [],
      "source": [
        "$ git status"
      ]
    },
    {
      "cell_type": "markdown",
      "metadata": {
        "id": "vHSgZwuDjsDd"
      },
      "source": [
        "Output:"
      ]
    },
    {
      "cell_type": "code",
      "execution_count": null,
      "metadata": {
        "id": "96SmKX-sj0sH"
      },
      "outputs": [],
      "source": [
        "\n",
        "On branch main\n",
        "Changes to be committed:\n",
        "  (use \"git restore --staged <file>...\" to unstage)\n",
        "        modified:   example.txt\n",
        "\n"
      ]
    },
    {
      "cell_type": "markdown",
      "metadata": {
        "id": "lfjJNH4wj2LN"
      },
      "source": [
        "### **4. Commit the Changes:**"
      ]
    },
    {
      "cell_type": "code",
      "execution_count": null,
      "metadata": {
        "id": "hDuQ-R7Dj4Z7"
      },
      "outputs": [],
      "source": [
        "$ git commit -m \"Update example.txt with new content\""
      ]
    },
    {
      "cell_type": "markdown",
      "metadata": {
        "id": "RbmTnT9Qj640"
      },
      "source": [
        "Output:"
      ]
    },
    {
      "cell_type": "code",
      "execution_count": null,
      "metadata": {
        "id": "OGodRk0_j9Ej"
      },
      "outputs": [],
      "source": [
        "[main 1a2b3c4] Update example.txt with new content\n",
        " 1 file changed, 1 insertion(+), 1 deletion(-)"
      ]
    },
    {
      "cell_type": "markdown",
      "metadata": {
        "id": "CzvuXrPIj9lr"
      },
      "source": [
        "## Git Log\n",
        "\n",
        "**`git log`** is a Git command that displays the commit history of a repository. It provides a chronological list of commits, showing details such as the commit hash, author, date, and commit message. The **`git log`** command is useful for understanding the evolution of a project and tracking changes over time.\n",
        "\n",
        "Here are key aspects of **`git log`** and why it is used:\n",
        "\n",
        "### **1. Display Commit History:**\n",
        "\n",
        "- **Commit Hash:** Each commit is identified by a unique hash (a long alphanumeric string). This hash is essential for referencing specific commits.\n",
        "- **Author:** Shows the name and email address of the person who made the commit.\n",
        "- **Date:** Displays the date and time when the commit was made.\n",
        "- **Commit Message:** Provides a short and descriptive message explaining the changes made in that commit.\n",
        "\n",
        "### **2. Why It's Important:**\n",
        "\n",
        "- **Understanding Project History:**\n",
        "    - **`git log`** helps you understand how your project has evolved over time. You can see who made changes, when they were made, and the purpose of each change.\n",
        "- **Troubleshooting and Debugging:**\n",
        "    - When issues arise, **`git log`** helps identify when a bug or regression was introduced. You can trace back through the commit history to find the specific change causing the problem.\n",
        "- **Collaboration:**\n",
        "    - In a collaborative environment, **`git log`** is crucial for keeping track of contributions made by team members. It provides transparency into the development process.\n",
        "- **Code Reviews:**\n",
        "    - When reviewing code changes, **`git log`** helps reviewers understand the context of the changes. The commit messages provide insights into the rationale behind each modification."
      ]
    },
    {
      "cell_type": "markdown",
      "metadata": {
        "id": "tncwFuagkD-L"
      },
      "source": [
        "Let's go through an example of using **`git log`** with some sample commands and output. Assume we have a Git repository with a few commits:\n",
        "\n",
        "### **1. View the Full Commit History:**"
      ]
    },
    {
      "cell_type": "code",
      "execution_count": null,
      "metadata": {
        "id": "QmeXurpIkFP4"
      },
      "outputs": [],
      "source": [
        "$ git log"
      ]
    },
    {
      "cell_type": "markdown",
      "metadata": {
        "id": "0R4b0kT-kGks"
      },
      "source": [
        "Output:"
      ]
    },
    {
      "cell_type": "code",
      "execution_count": null,
      "metadata": {
        "id": "hKHYWPe3kHBR"
      },
      "outputs": [],
      "source": [
        "\n",
        "commit 1a2b3c4d5e6f7g8h9i0j1k2l3m4n5o6p7q8r9s0t1\n",
        "Author: John Doe <john@example.com>\n",
        "Date:   Tue Jan 04 12:34:56 2024 +0000\n",
        "\n",
        "    Add new feature X\n",
        "\n",
        "commit a1b2c3d4e5f6g7h8i9j0k1l2m3n4o5p6q7r8s9t0\n",
        "Author: Jane Smith <jane@example.com>\n",
        "Date:   Mon Jan 03 15:45:30 2024 +0000\n",
        "\n",
        "    Update README.md\n",
        "\n",
        "commit b2c3d4e5f6g7h8i9j0k1l2m3n4o5p6q7r8s9t0\n",
        "Author: John Doe <john@example.com>\n",
        "Date:   Sun Jan 02 09:12:45 2024 +0000\n",
        "\n",
        "    Initial commit"
      ]
    },
    {
      "cell_type": "markdown",
      "metadata": {
        "id": "UzaInIgEkOf5"
      },
      "source": [
        "This displays the commit history with each commit's hash, author, date, and commit message. The latest commit is shown first."
      ]
    },
    {
      "cell_type": "markdown",
      "metadata": {
        "id": "NJXag_5jkQQB"
      },
      "source": [
        "## **Connecting git with remote repository**\n",
        "\n",
        "Connecting your local Git repository with a remote repository is a common step when collaborating on a project or when you want to backup your work on a remote server. The most popular platform for hosting Git repositories is GitHub, so I'll provide steps for connecting your local repository to a GitHub repository. The steps might differ slightly if you're using a different Git hosting service.\n",
        "\n",
        "### **Steps to Connect Git with a Remote Repository (GitHub):**\n",
        "\n",
        "### 1. Create a GitHub Repository:\n",
        "\n",
        "- Go to [GitHub](https://github.com/) and log in to your account.\n",
        "- Click on the \"+\" sign in the top right corner and select \"New repository.\"\n",
        "- Follow the instructions to create a new repository, and you can choose to initialize it with a README file.\n",
        "\n",
        "### 2. Copy the Repository URL:\n",
        "\n",
        "- After creating the repository, copy the repository URL. You can find it on the main page of your repository.\n",
        "\n",
        "### 3. Navigate to Your Local Repository:\n",
        "\n",
        "- Open a terminal or command prompt.\n",
        "- Navigate to the local directory of your Git repository using the **`cd`** command.\n",
        "\n",
        "### 4. Connect Local Repository to Remote Repository:\n",
        "- Run the following command to add a remote named \"origin\" (you can choose any name, but \"origin\" is a common convention) and specify the repository URL you copied:\n",
        "    \n",
        "    ```bash\n",
        "    \n",
        "    git remote add origin <repository_url>\n",
        "    \n",
        "    ```\n",
        "    \n",
        "    Replace **`<repository_url>`** with the URL of your GitHub repository."
      ]
    },
    {
      "cell_type": "markdown",
      "metadata": {
        "id": "JBAAqXtdkqg7"
      },
      "source": [
        "### 5. Verify the Connection:\n",
        "\n",
        "- Run the following command to check if the remote repository is added successfully:\n",
        "    \n",
        "    ```bash\n",
        "    \n",
        "    git remote -v\n",
        "    \n",
        "    ```\n",
        "    \n",
        "    You should see the URL of your remote repository."
      ]
    },
    {
      "cell_type": "markdown",
      "metadata": {
        "id": "BQkLFgq3k36P"
      },
      "source": [
        "### 6. Push Your Code to the Remote Repository:\n",
        "\n",
        "- Now, you can push your local code to the remote repository using the following commands:\n",
        "    \n",
        "    ```bash\n",
        "    \n",
        "    git push -u origin master\n",
        "    \n",
        "    ```\n",
        "    \n",
        "    If you are working on a branch other than \"master,\" replace \"master\" with the name of your branch."
      ]
    },
    {
      "cell_type": "markdown",
      "metadata": {
        "id": "AlKLqV3Lk562"
      },
      "source": [
        "### **Example:**\n",
        "\n",
        "Assuming your GitHub repository URL is **`https://github.com/your-username/your-repository.git`**, the commands would look like this:"
      ]
    },
    {
      "cell_type": "code",
      "execution_count": null,
      "metadata": {
        "id": "yeJvd-Xik71V"
      },
      "outputs": [],
      "source": [
        "\n",
        "# Add remote\n",
        "git remote add origin https://github.com/your-username/your-repository.git\n",
        "\n",
        "# Verify remote\n",
        "git remote -v\n",
        "\n",
        "# Push to remote\n",
        "git push -u origin master\n",
        "\n"
      ]
    },
    {
      "cell_type": "markdown",
      "metadata": {
        "id": "-V3LsY6Ek_yO"
      },
      "source": [
        "Now, your local repository is connected to the remote repository on GitHub, and you can push and pull changes between them. This connection allows for collaboration, version control, and backup of your code.\n",
        "\n",
        "## Git Ignore\n",
        "\n",
        "In Git, a **`.gitignore`** file is used to specify intentionally untracked files that Git should ignore. This file is typically placed in the root directory of your Git repository, and it contains a list of file patterns and paths that Git should exclude from version control.\n",
        "\n",
        "### **Why Use `.gitignore`?**\n",
        "\n",
        "1. **Ignore Unnecessary Files:**\n",
        "    - Some files and directories (such as compiled binaries, temporary files, log files, or IDE-specific files) are generated during development or by the tools you use. Including these in version control is often unnecessary and can clutter the repository.\n",
        "2. **Avoid Sensitive Information:**\n",
        "    - You might have configuration files that contain sensitive information, such as API keys or passwords. Using **`.gitignore`** helps prevent accidentally committing and sharing such sensitive information.\n",
        "3. **Improve Repository Cleanliness:**\n",
        "    - By specifying which files to ignore, you keep your repository clean and focused on versioning the essential source code and project files. This is particularly important when collaborating with others.\n",
        "\n",
        "### **Example:**\n",
        "\n",
        "Let's say you want to ignore files with the extensions **`.log`**, **`.tmp`**, and the directory named **`build/`**. Here's how you can create a **`.gitignore`** file:\n",
        "\n",
        "1. Create a **`.gitignore`** file in the root directory of your Git repository.\n",
        "    \n",
        "    ```bash\n",
        "    \n",
        "    touch .gitignore\n",
        "    \n",
        "    ```"
      ]
    },
    {
      "cell_type": "markdown",
      "metadata": {
        "id": "9lg1vkX8lDxC"
      },
      "source": [
        "2. Edit the **`.gitignore`** file and add the following patterns:\n",
        "    \n",
        "    ```bash\n",
        "    \n",
        "    # Ignore log files\n",
        "    *.log\n",
        "    \n",
        "    # Ignore temporary files\n",
        "    *.tmp\n",
        "    \n",
        "    # Ignore the build directory\n",
        "    /build/\n",
        "    \n",
        "    ```\n",
        "    \n",
        "    This configuration tells Git to ignore any files with the extensions **`.log`** and **`.tmp`**, as well as the entire **`build/`** directory."
      ]
    },
    {
      "cell_type": "markdown",
      "metadata": {
        "id": "MUJJkEzglILw"
      },
      "source": [
        "3. Save and commit the **`.gitignore`** file:\n",
        "    \n",
        "    ```bash\n",
        "    \n",
        "    git add .gitignore\n",
        "    git commit -m \"Add .gitignore file\"\n",
        "    \n",
        "    ```\n",
        "    \n",
        "\n",
        "Now, when you commit changes in the repository, Git will automatically exclude the specified files and directories mentioned in the **`.gitignore`** file."
      ]
    },
    {
      "cell_type": "markdown",
      "metadata": {
        "id": "vJRzMQWilKzf"
      },
      "source": [
        "### **Example Output:**\n",
        "\n",
        "Assuming you have the **`.gitignore`** file described above, when you run **`git status`**, Git will no longer show the files and directories specified in the **`.gitignore`** file as untracked:\n",
        "\n",
        "```bash\n",
        "$ git status\n",
        "On branch main\n",
        "Your branch is up to date with 'origin/main'.\n",
        "\n",
        "nothing to commit, working tree clean\n",
        "\n",
        "```\n",
        "\n",
        "This helps maintain a cleaner and more focused version control history, with unnecessary or sensitive files excluded from the repository."
      ]
    },
    {
      "cell_type": "markdown",
      "metadata": {
        "id": "PMWrW0DviKcf"
      },
      "source": [
        "## **OS MODULE IN PYTHON**"
      ]
    },
    {
      "cell_type": "markdown",
      "metadata": {
        "id": "sfZGmLyBiTNw"
      },
      "source": [
        "In Python, the os module provides a way to interact with the operating system, enabling you to perform various system-related tasks such as file manipulation, directory operations, and environment variables management."
      ]
    },
    {
      "cell_type": "markdown",
      "metadata": {
        "id": "XiG9NURtlWE3"
      },
      "source": [
        "**Getting the Current working directory**\n",
        "\n",
        "To get the location of the current working directory os.getcwd() is used.\n",
        "\n",
        "**Example**: This code uses the ‘os' module to get and print the current working directory (CWD) of the Python script. It retrieves the CWD using the ‘os.getcwd()' and then prints it to the console.\n",
        "\n"
      ]
    },
    {
      "cell_type": "code",
      "execution_count": null,
      "metadata": {
        "colab": {
          "base_uri": "https://localhost:8080/"
        },
        "id": "xMnJhhE7jV_F",
        "outputId": "0fb8cfa5-2951-4e71-a69d-7283d2e75d9d"
      },
      "outputs": [
        {
          "name": "stdout",
          "output_type": "stream",
          "text": [
            "Current working directory: /content\n"
          ]
        }
      ],
      "source": [
        "import os\n",
        "cwd = os.getcwd()\n",
        "print(\"Current working directory:\", cwd)"
      ]
    },
    {
      "cell_type": "markdown",
      "metadata": {
        "id": "P8BewJ80l2U_"
      },
      "source": [
        "**Changing the Current working directory**\n",
        "\n",
        "To change the current working directory(CWD) os.chdir() method is used. This method changes the CWD to a specified path. It only takes a single argument as a new directory path.\n",
        "\n"
      ]
    },
    {
      "cell_type": "code",
      "execution_count": null,
      "metadata": {
        "colab": {
          "base_uri": "https://localhost:8080/"
        },
        "id": "d9HxpmwPl-ge",
        "outputId": "f8470ea4-eae2-444f-f394-445c6ed52121"
      },
      "outputs": [
        {
          "name": "stdout",
          "output_type": "stream",
          "text": [
            "Current working directory before\n",
            "/content\n",
            "\n",
            "Current working directory before\n",
            "/\n",
            "\n"
          ]
        }
      ],
      "source": [
        "import os\n",
        "def current_path():\n",
        "\tprint(\"Current working directory before\")\n",
        "\tprint(os.getcwd())\n",
        "\tprint()\n",
        "current_path()\n",
        "os.chdir('../')\n",
        "current_path()"
      ]
    },
    {
      "cell_type": "markdown",
      "metadata": {
        "id": "jOeHYNjamIq7"
      },
      "source": [
        "**Creating a Directory**\n",
        "\n",
        "There are different methods available in the OS module for creating a directory."
      ]
    },
    {
      "cell_type": "markdown",
      "metadata": {
        "id": "RWnNC-psmVY9"
      },
      "source": [
        "**Using os.mkdir()**"
      ]
    },
    {
      "cell_type": "markdown",
      "metadata": {
        "id": "4uMEPA55mkEq"
      },
      "source": [
        "By using os.mkdir() method in Python is used to create a directory named path with the specified numeric mode. This method raises FileExistsError if the directory to be created already exists."
      ]
    },
    {
      "cell_type": "markdown",
      "metadata": {
        "id": "4pkNEemGmsUp"
      },
      "source": [
        "**Example**:  \n",
        "This code creates two directories: “GEEKSTER” within the “D:/Pycharm projects/” directory and “Geeks” within the “D:/Pycharm projects” directory.\n",
        "\n",
        "- The first directory is created using the os.mkdir() method without specifying the mode.\n",
        "\n",
        "- The second directory is created using the same method, but a specific mode (0o666) is provided, which grants read and write permissions.\n",
        "\n",
        "- The code then prints messages to indicate that the directories have been created"
      ]
    },
    {
      "cell_type": "code",
      "execution_count": null,
      "metadata": {
        "colab": {
          "base_uri": "https://localhost:8080/"
        },
        "id": "p7ecugIdmPxY",
        "outputId": "7b89f184-51a3-4c10-ba42-07420eab5c62"
      },
      "outputs": [
        {
          "name": "stdout",
          "output_type": "stream",
          "text": [
            "Directory 'GEEKSTER' created\n",
            "Directory 'Geeks' created\n"
          ]
        }
      ],
      "source": [
        "import os\n",
        "directory = \"GEEKSTER\"\n",
        "parent_dir = \"/content\"\n",
        "path = os.path.join(parent_dir, directory)\n",
        "\n",
        "os.mkdir(path)\n",
        "print(\"Directory '% s' created\" % directory)\n",
        "directory = \"Geeks\"\n",
        "parent_dir = \"/content\"\n",
        "mode = 0o666\n",
        "path = os.path.join(parent_dir, directory)\n",
        "os.mkdir(path, mode)\n",
        "print(\"Directory '% s' created\" % directory)\n"
      ]
    },
    {
      "cell_type": "markdown",
      "metadata": {
        "id": "pkUqMxQAnm0e"
      },
      "source": [
        "**Listing out Files and Directories with Python**\n"
      ]
    },
    {
      "cell_type": "markdown",
      "metadata": {
        "id": "1TCRgpHXlfSH"
      },
      "source": [
        "## ClassWork"
      ]
    },
    {
      "cell_type": "markdown",
      "metadata": {
        "id": "NlMHCN1blhKT"
      },
      "source": [
        "- Write Python code to perform the following filesystem operations:\n",
        "    - Create a new directory.\n",
        "    - List all files and directories in the current working directory.\n",
        "    - Create a new text file within the newly created directory and write some content to it.\n",
        "    - Read the content of the newly created text file.\n",
        "    - Rename the text file.\n",
        "    - List all files and directories in the new directory after renaming the file.\n",
        "    - Delete the new directory and its contents.\n",
        "\n",
        "and push it on github"
      ]
    }
  ],
  "metadata": {
    "colab": {
      "provenance": []
    },
    "kernelspec": {
      "display_name": "Python 3",
      "name": "python3"
    },
    "language_info": {
      "name": "python"
    }
  },
  "nbformat": 4,
  "nbformat_minor": 0
}
