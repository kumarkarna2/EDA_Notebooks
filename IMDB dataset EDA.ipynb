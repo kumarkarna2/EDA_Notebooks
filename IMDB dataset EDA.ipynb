{
 "cells": [
  {
   "cell_type": "markdown",
   "id": "27722070",
   "metadata": {},
   "source": [
    "#### You have been hired by a rookie movie producer to help him decide what type of movies to produce and which actors to cast. You have to back your recommendations based on thorough analysis of the data he shared with you which has the list of 3000 movies and the corresponding details.\n",
    "\n",
    "#### As a data scientist, you have to first explore the data and check its sanity.\n",
    "\n",
    "#### Further, you have to answer the following questions:\n",
    "1. Which movie made the highest profit? Who were its producer and director? Identify the actors in that film.\n",
    "2. This data has information about movies made in different languages. Which language has the highest average ROI (return on investment)?\n",
    "3. Find out the unique genres of movies in this dataset.\n",
    "4. Make a table of all the producers and directors of each movie. Find the top 3 producers who have produced movies with the highest average RoI? \n",
    "5. Which actor has acted in the most number of movies? Deep dive into the movies, genres and profits corresponding to this actor.\n",
    "\n",
    "\n"
   ]
  },
  {
   "cell_type": "code",
   "execution_count": 1,
   "id": "be6ca441",
   "metadata": {},
   "outputs": [],
   "source": [
    "#Import package\n",
    "import pandas as pd\n",
    "import numpy as np"
   ]
  },
  {
   "cell_type": "code",
   "execution_count": 3,
   "id": "5fac26ec",
   "metadata": {},
   "outputs": [
    {
     "data": {
      "text/html": [
       "<div>\n",
       "<style scoped>\n",
       "    .dataframe tbody tr th:only-of-type {\n",
       "        vertical-align: middle;\n",
       "    }\n",
       "\n",
       "    .dataframe tbody tr th {\n",
       "        vertical-align: top;\n",
       "    }\n",
       "\n",
       "    .dataframe thead th {\n",
       "        text-align: right;\n",
       "    }\n",
       "</style>\n",
       "<table border=\"1\" class=\"dataframe\">\n",
       "  <thead>\n",
       "    <tr style=\"text-align: right;\">\n",
       "      <th></th>\n",
       "      <th>id</th>\n",
       "      <th>belongs_to_collection</th>\n",
       "      <th>budget</th>\n",
       "      <th>genres</th>\n",
       "      <th>homepage</th>\n",
       "      <th>imdb_id</th>\n",
       "      <th>original_language</th>\n",
       "      <th>original_title</th>\n",
       "      <th>overview</th>\n",
       "      <th>popularity</th>\n",
       "      <th>...</th>\n",
       "      <th>release_date</th>\n",
       "      <th>runtime</th>\n",
       "      <th>spoken_languages</th>\n",
       "      <th>status</th>\n",
       "      <th>tagline</th>\n",
       "      <th>title</th>\n",
       "      <th>Keywords</th>\n",
       "      <th>cast</th>\n",
       "      <th>crew</th>\n",
       "      <th>revenue</th>\n",
       "    </tr>\n",
       "  </thead>\n",
       "  <tbody>\n",
       "    <tr>\n",
       "      <th>0</th>\n",
       "      <td>1</td>\n",
       "      <td>[{'id': 313576, 'name': 'Hot Tub Time Machine ...</td>\n",
       "      <td>14000000</td>\n",
       "      <td>[{'id': 35, 'name': 'Comedy'}]</td>\n",
       "      <td>NaN</td>\n",
       "      <td>tt2637294</td>\n",
       "      <td>en</td>\n",
       "      <td>Hot Tub Time Machine 2</td>\n",
       "      <td>When Lou, who has become the \"father of the In...</td>\n",
       "      <td>6.575393</td>\n",
       "      <td>...</td>\n",
       "      <td>2/20/15</td>\n",
       "      <td>93.0</td>\n",
       "      <td>[{'iso_639_1': 'en', 'name': 'English'}]</td>\n",
       "      <td>Released</td>\n",
       "      <td>The Laws of Space and Time are About to be Vio...</td>\n",
       "      <td>Hot Tub Time Machine 2</td>\n",
       "      <td>[{'id': 4379, 'name': 'time travel'}, {'id': 9...</td>\n",
       "      <td>[{'cast_id': 4, 'character': 'Lou', 'credit_id...</td>\n",
       "      <td>[{'credit_id': '59ac067c92514107af02c8c8', 'de...</td>\n",
       "      <td>12314651</td>\n",
       "    </tr>\n",
       "    <tr>\n",
       "      <th>1</th>\n",
       "      <td>2</td>\n",
       "      <td>[{'id': 107674, 'name': 'The Princess Diaries ...</td>\n",
       "      <td>40000000</td>\n",
       "      <td>[{'id': 35, 'name': 'Comedy'}, {'id': 18, 'nam...</td>\n",
       "      <td>NaN</td>\n",
       "      <td>tt0368933</td>\n",
       "      <td>en</td>\n",
       "      <td>The Princess Diaries 2: Royal Engagement</td>\n",
       "      <td>Mia Thermopolis is now a college graduate and ...</td>\n",
       "      <td>8.248895</td>\n",
       "      <td>...</td>\n",
       "      <td>8/6/04</td>\n",
       "      <td>113.0</td>\n",
       "      <td>[{'iso_639_1': 'en', 'name': 'English'}]</td>\n",
       "      <td>Released</td>\n",
       "      <td>It can take a lifetime to find true love; she'...</td>\n",
       "      <td>The Princess Diaries 2: Royal Engagement</td>\n",
       "      <td>[{'id': 2505, 'name': 'coronation'}, {'id': 42...</td>\n",
       "      <td>[{'cast_id': 1, 'character': 'Mia Thermopolis'...</td>\n",
       "      <td>[{'credit_id': '52fe43fe9251416c7502563d', 'de...</td>\n",
       "      <td>95149435</td>\n",
       "    </tr>\n",
       "    <tr>\n",
       "      <th>2</th>\n",
       "      <td>3</td>\n",
       "      <td>NaN</td>\n",
       "      <td>3300000</td>\n",
       "      <td>[{'id': 18, 'name': 'Drama'}]</td>\n",
       "      <td>http://sonyclassics.com/whiplash/</td>\n",
       "      <td>tt2582802</td>\n",
       "      <td>en</td>\n",
       "      <td>Whiplash</td>\n",
       "      <td>Under the direction of a ruthless instructor, ...</td>\n",
       "      <td>64.299990</td>\n",
       "      <td>...</td>\n",
       "      <td>10/10/14</td>\n",
       "      <td>105.0</td>\n",
       "      <td>[{'iso_639_1': 'en', 'name': 'English'}]</td>\n",
       "      <td>Released</td>\n",
       "      <td>The road to greatness can take you to the edge.</td>\n",
       "      <td>Whiplash</td>\n",
       "      <td>[{'id': 1416, 'name': 'jazz'}, {'id': 1523, 'n...</td>\n",
       "      <td>[{'cast_id': 5, 'character': 'Andrew Neimann',...</td>\n",
       "      <td>[{'credit_id': '54d5356ec3a3683ba0000039', 'de...</td>\n",
       "      <td>13092000</td>\n",
       "    </tr>\n",
       "    <tr>\n",
       "      <th>3</th>\n",
       "      <td>4</td>\n",
       "      <td>NaN</td>\n",
       "      <td>1200000</td>\n",
       "      <td>[{'id': 53, 'name': 'Thriller'}, {'id': 18, 'n...</td>\n",
       "      <td>http://kahaanithefilm.com/</td>\n",
       "      <td>tt1821480</td>\n",
       "      <td>hi</td>\n",
       "      <td>Kahaani</td>\n",
       "      <td>Vidya Bagchi (Vidya Balan) arrives in Kolkata ...</td>\n",
       "      <td>3.174936</td>\n",
       "      <td>...</td>\n",
       "      <td>3/9/12</td>\n",
       "      <td>122.0</td>\n",
       "      <td>[{'iso_639_1': 'en', 'name': 'English'}, {'iso...</td>\n",
       "      <td>Released</td>\n",
       "      <td>NaN</td>\n",
       "      <td>Kahaani</td>\n",
       "      <td>[{'id': 10092, 'name': 'mystery'}, {'id': 1054...</td>\n",
       "      <td>[{'cast_id': 1, 'character': 'Vidya Bagchi', '...</td>\n",
       "      <td>[{'credit_id': '52fe48779251416c9108d6eb', 'de...</td>\n",
       "      <td>16000000</td>\n",
       "    </tr>\n",
       "    <tr>\n",
       "      <th>4</th>\n",
       "      <td>5</td>\n",
       "      <td>NaN</td>\n",
       "      <td>0</td>\n",
       "      <td>[{'id': 28, 'name': 'Action'}, {'id': 53, 'nam...</td>\n",
       "      <td>NaN</td>\n",
       "      <td>tt1380152</td>\n",
       "      <td>ko</td>\n",
       "      <td>마린보이</td>\n",
       "      <td>Marine Boy is the story of a former national s...</td>\n",
       "      <td>1.148070</td>\n",
       "      <td>...</td>\n",
       "      <td>2/5/09</td>\n",
       "      <td>118.0</td>\n",
       "      <td>[{'iso_639_1': 'ko', 'name': '한국어/조선말'}]</td>\n",
       "      <td>Released</td>\n",
       "      <td>NaN</td>\n",
       "      <td>Marine Boy</td>\n",
       "      <td>NaN</td>\n",
       "      <td>[{'cast_id': 3, 'character': 'Chun-soo', 'cred...</td>\n",
       "      <td>[{'credit_id': '52fe464b9251416c75073b43', 'de...</td>\n",
       "      <td>3923970</td>\n",
       "    </tr>\n",
       "  </tbody>\n",
       "</table>\n",
       "<p>5 rows × 23 columns</p>\n",
       "</div>"
      ],
      "text/plain": [
       "   id                              belongs_to_collection    budget  \\\n",
       "0   1  [{'id': 313576, 'name': 'Hot Tub Time Machine ...  14000000   \n",
       "1   2  [{'id': 107674, 'name': 'The Princess Diaries ...  40000000   \n",
       "2   3                                                NaN   3300000   \n",
       "3   4                                                NaN   1200000   \n",
       "4   5                                                NaN         0   \n",
       "\n",
       "                                              genres  \\\n",
       "0                     [{'id': 35, 'name': 'Comedy'}]   \n",
       "1  [{'id': 35, 'name': 'Comedy'}, {'id': 18, 'nam...   \n",
       "2                      [{'id': 18, 'name': 'Drama'}]   \n",
       "3  [{'id': 53, 'name': 'Thriller'}, {'id': 18, 'n...   \n",
       "4  [{'id': 28, 'name': 'Action'}, {'id': 53, 'nam...   \n",
       "\n",
       "                            homepage    imdb_id original_language  \\\n",
       "0                                NaN  tt2637294                en   \n",
       "1                                NaN  tt0368933                en   \n",
       "2  http://sonyclassics.com/whiplash/  tt2582802                en   \n",
       "3         http://kahaanithefilm.com/  tt1821480                hi   \n",
       "4                                NaN  tt1380152                ko   \n",
       "\n",
       "                             original_title  \\\n",
       "0                    Hot Tub Time Machine 2   \n",
       "1  The Princess Diaries 2: Royal Engagement   \n",
       "2                                  Whiplash   \n",
       "3                                   Kahaani   \n",
       "4                                      마린보이   \n",
       "\n",
       "                                            overview  popularity  ...  \\\n",
       "0  When Lou, who has become the \"father of the In...    6.575393  ...   \n",
       "1  Mia Thermopolis is now a college graduate and ...    8.248895  ...   \n",
       "2  Under the direction of a ruthless instructor, ...   64.299990  ...   \n",
       "3  Vidya Bagchi (Vidya Balan) arrives in Kolkata ...    3.174936  ...   \n",
       "4  Marine Boy is the story of a former national s...    1.148070  ...   \n",
       "\n",
       "  release_date runtime                                   spoken_languages  \\\n",
       "0      2/20/15    93.0           [{'iso_639_1': 'en', 'name': 'English'}]   \n",
       "1       8/6/04   113.0           [{'iso_639_1': 'en', 'name': 'English'}]   \n",
       "2     10/10/14   105.0           [{'iso_639_1': 'en', 'name': 'English'}]   \n",
       "3       3/9/12   122.0  [{'iso_639_1': 'en', 'name': 'English'}, {'iso...   \n",
       "4       2/5/09   118.0           [{'iso_639_1': 'ko', 'name': '한국어/조선말'}]   \n",
       "\n",
       "     status                                            tagline  \\\n",
       "0  Released  The Laws of Space and Time are About to be Vio...   \n",
       "1  Released  It can take a lifetime to find true love; she'...   \n",
       "2  Released    The road to greatness can take you to the edge.   \n",
       "3  Released                                                NaN   \n",
       "4  Released                                                NaN   \n",
       "\n",
       "                                      title  \\\n",
       "0                    Hot Tub Time Machine 2   \n",
       "1  The Princess Diaries 2: Royal Engagement   \n",
       "2                                  Whiplash   \n",
       "3                                   Kahaani   \n",
       "4                                Marine Boy   \n",
       "\n",
       "                                            Keywords  \\\n",
       "0  [{'id': 4379, 'name': 'time travel'}, {'id': 9...   \n",
       "1  [{'id': 2505, 'name': 'coronation'}, {'id': 42...   \n",
       "2  [{'id': 1416, 'name': 'jazz'}, {'id': 1523, 'n...   \n",
       "3  [{'id': 10092, 'name': 'mystery'}, {'id': 1054...   \n",
       "4                                                NaN   \n",
       "\n",
       "                                                cast  \\\n",
       "0  [{'cast_id': 4, 'character': 'Lou', 'credit_id...   \n",
       "1  [{'cast_id': 1, 'character': 'Mia Thermopolis'...   \n",
       "2  [{'cast_id': 5, 'character': 'Andrew Neimann',...   \n",
       "3  [{'cast_id': 1, 'character': 'Vidya Bagchi', '...   \n",
       "4  [{'cast_id': 3, 'character': 'Chun-soo', 'cred...   \n",
       "\n",
       "                                                crew   revenue  \n",
       "0  [{'credit_id': '59ac067c92514107af02c8c8', 'de...  12314651  \n",
       "1  [{'credit_id': '52fe43fe9251416c7502563d', 'de...  95149435  \n",
       "2  [{'credit_id': '54d5356ec3a3683ba0000039', 'de...  13092000  \n",
       "3  [{'credit_id': '52fe48779251416c9108d6eb', 'de...  16000000  \n",
       "4  [{'credit_id': '52fe464b9251416c75073b43', 'de...   3923970  \n",
       "\n",
       "[5 rows x 23 columns]"
      ]
     },
     "execution_count": 3,
     "metadata": {},
     "output_type": "execute_result"
    }
   ],
   "source": [
    "imdb_df = pd.read_csv(r'C:\\Users\\malik\\Downloads\\imdb_data1.csv')\n",
    "imdb_df.head()"
   ]
  },
  {
   "cell_type": "code",
   "execution_count": 4,
   "id": "6e156977",
   "metadata": {},
   "outputs": [
    {
     "name": "stdout",
     "output_type": "stream",
     "text": [
      "<class 'pandas.core.frame.DataFrame'>\n",
      "RangeIndex: 3000 entries, 0 to 2999\n",
      "Data columns (total 23 columns):\n",
      " #   Column                 Non-Null Count  Dtype  \n",
      "---  ------                 --------------  -----  \n",
      " 0   id                     3000 non-null   int64  \n",
      " 1   belongs_to_collection  604 non-null    object \n",
      " 2   budget                 3000 non-null   int64  \n",
      " 3   genres                 2993 non-null   object \n",
      " 4   homepage               946 non-null    object \n",
      " 5   imdb_id                3000 non-null   object \n",
      " 6   original_language      3000 non-null   object \n",
      " 7   original_title         3000 non-null   object \n",
      " 8   overview               2992 non-null   object \n",
      " 9   popularity             3000 non-null   float64\n",
      " 10  poster_path            2999 non-null   object \n",
      " 11  production_companies   2844 non-null   object \n",
      " 12  production_countries   2945 non-null   object \n",
      " 13  release_date           3000 non-null   object \n",
      " 14  runtime                2998 non-null   float64\n",
      " 15  spoken_languages       2980 non-null   object \n",
      " 16  status                 3000 non-null   object \n",
      " 17  tagline                2403 non-null   object \n",
      " 18  title                  3000 non-null   object \n",
      " 19  Keywords               2724 non-null   object \n",
      " 20  cast                   2987 non-null   object \n",
      " 21  crew                   2984 non-null   object \n",
      " 22  revenue                3000 non-null   int64  \n",
      "dtypes: float64(2), int64(3), object(18)\n",
      "memory usage: 539.2+ KB\n"
     ]
    }
   ],
   "source": [
    "imdb_df.info()"
   ]
  },
  {
   "cell_type": "code",
   "execution_count": 5,
   "id": "9857b689",
   "metadata": {},
   "outputs": [
    {
     "name": "stdout",
     "output_type": "stream",
     "text": [
      "Index(['id', 'belongs_to_collection', 'budget', 'genres', 'homepage',\n",
      "       'imdb_id', 'original_language', 'original_title', 'overview',\n",
      "       'popularity', 'poster_path', 'production_companies',\n",
      "       'production_countries', 'release_date', 'runtime', 'spoken_languages',\n",
      "       'status', 'tagline', 'title', 'Keywords', 'cast', 'crew', 'revenue'],\n",
      "      dtype='object')\n"
     ]
    }
   ],
   "source": [
    "print(imdb_df.columns)"
   ]
  },
  {
   "cell_type": "markdown",
   "id": "2d3670ea",
   "metadata": {},
   "source": [
    "#### After reading all Qs. now subsetting out columns neceesary for answering the question in order to get proper insights\n",
    "\n",
    "#### keep all columns which are non null"
   ]
  },
  {
   "cell_type": "code",
   "execution_count": 6,
   "id": "6585e05c",
   "metadata": {},
   "outputs": [],
   "source": [
    "columns_to_keep= ['budget', 'genres','original_language', 'original_title','cast', 'crew', 'revenue']"
   ]
  },
  {
   "cell_type": "code",
   "execution_count": 7,
   "id": "58187868",
   "metadata": {},
   "outputs": [
    {
     "data": {
      "text/plain": [
       "0                          [{'id': 35, 'name': 'Comedy'}]\n",
       "1       [{'id': 35, 'name': 'Comedy'}, {'id': 18, 'nam...\n",
       "2                           [{'id': 18, 'name': 'Drama'}]\n",
       "3       [{'id': 53, 'name': 'Thriller'}, {'id': 18, 'n...\n",
       "4       [{'id': 28, 'name': 'Action'}, {'id': 53, 'nam...\n",
       "                              ...                        \n",
       "2995    [{'id': 35, 'name': 'Comedy'}, {'id': 10749, '...\n",
       "2996    [{'id': 18, 'name': 'Drama'}, {'id': 10402, 'n...\n",
       "2997    [{'id': 80, 'name': 'Crime'}, {'id': 28, 'name...\n",
       "2998    [{'id': 35, 'name': 'Comedy'}, {'id': 10749, '...\n",
       "2999    [{'id': 53, 'name': 'Thriller'}, {'id': 28, 'n...\n",
       "Name: genres, Length: 2993, dtype: object"
      ]
     },
     "execution_count": 7,
     "metadata": {},
     "output_type": "execute_result"
    }
   ],
   "source": [
    "#find all the row indexes for which genres is not null\n",
    "imdb_df.loc[~imdb_df['genres'].isna(),'genres']"
   ]
  },
  {
   "cell_type": "code",
   "execution_count": 8,
   "id": "29c26364",
   "metadata": {},
   "outputs": [
    {
     "data": {
      "text/plain": [
       "str"
      ]
     },
     "execution_count": 8,
     "metadata": {},
     "output_type": "execute_result"
    }
   ],
   "source": [
    "type(imdb_df.loc[0,'cast'])"
   ]
  },
  {
   "cell_type": "markdown",
   "id": "06254779",
   "metadata": {},
   "source": [
    "#### Converting the string values to proper list and we are using it on columns --> cast crew genres\n",
    "#### Converting only non null string"
   ]
  },
  {
   "cell_type": "code",
   "execution_count": 9,
   "id": "9ae209a5",
   "metadata": {},
   "outputs": [],
   "source": [
    "def convert_to_list(str):\n",
    "  return eval(str)"
   ]
  },
  {
   "cell_type": "code",
   "execution_count": 10,
   "id": "8b19c4ab",
   "metadata": {},
   "outputs": [],
   "source": [
    "#apply the above function only on non null values in genres column\n",
    "imdb_df.loc[~imdb_df['genres'].isna(),'genres']= imdb_df.loc[~imdb_df['genres'].isna(),'genres'].apply(convert_to_list)"
   ]
  },
  {
   "cell_type": "code",
   "execution_count": 11,
   "id": "78dd4676",
   "metadata": {},
   "outputs": [],
   "source": [
    "#apply the above function only on non null values in cast column\n",
    "imdb_df.loc[~imdb_df['cast'].isna(),'cast']= imdb_df.loc[~imdb_df['cast'].isna(),'cast'].apply(convert_to_list)"
   ]
  },
  {
   "cell_type": "code",
   "execution_count": 12,
   "id": "1d1afb29",
   "metadata": {},
   "outputs": [],
   "source": [
    "#apply the above function only on non null values in crew column\n",
    "imdb_df.loc[~imdb_df['crew'].isna(),'crew']= imdb_df.loc[~imdb_df['crew'].isna(),'crew'].apply(convert_to_list)"
   ]
  },
  {
   "cell_type": "markdown",
   "id": "2a4e6a53",
   "metadata": {},
   "source": [
    "just keep in mind which column we have to use"
   ]
  },
  {
   "cell_type": "code",
   "execution_count": 13,
   "id": "6b23b476",
   "metadata": {},
   "outputs": [],
   "source": [
    "#creating a copy of orginal df\n",
    "imdb_df_new = imdb_df.copy()"
   ]
  },
  {
   "cell_type": "code",
   "execution_count": 14,
   "id": "8d22786b",
   "metadata": {},
   "outputs": [
    {
     "data": {
      "text/html": [
       "<div>\n",
       "<style scoped>\n",
       "    .dataframe tbody tr th:only-of-type {\n",
       "        vertical-align: middle;\n",
       "    }\n",
       "\n",
       "    .dataframe tbody tr th {\n",
       "        vertical-align: top;\n",
       "    }\n",
       "\n",
       "    .dataframe thead th {\n",
       "        text-align: right;\n",
       "    }\n",
       "</style>\n",
       "<table border=\"1\" class=\"dataframe\">\n",
       "  <thead>\n",
       "    <tr style=\"text-align: right;\">\n",
       "      <th></th>\n",
       "      <th>id</th>\n",
       "      <th>belongs_to_collection</th>\n",
       "      <th>budget</th>\n",
       "      <th>genres</th>\n",
       "      <th>homepage</th>\n",
       "      <th>imdb_id</th>\n",
       "      <th>original_language</th>\n",
       "      <th>original_title</th>\n",
       "      <th>overview</th>\n",
       "      <th>popularity</th>\n",
       "      <th>...</th>\n",
       "      <th>release_date</th>\n",
       "      <th>runtime</th>\n",
       "      <th>spoken_languages</th>\n",
       "      <th>status</th>\n",
       "      <th>tagline</th>\n",
       "      <th>title</th>\n",
       "      <th>Keywords</th>\n",
       "      <th>cast</th>\n",
       "      <th>crew</th>\n",
       "      <th>revenue</th>\n",
       "    </tr>\n",
       "  </thead>\n",
       "  <tbody>\n",
       "    <tr>\n",
       "      <th>0</th>\n",
       "      <td>1</td>\n",
       "      <td>[{'id': 313576, 'name': 'Hot Tub Time Machine ...</td>\n",
       "      <td>14000000</td>\n",
       "      <td>[{'id': 35, 'name': 'Comedy'}]</td>\n",
       "      <td>NaN</td>\n",
       "      <td>tt2637294</td>\n",
       "      <td>en</td>\n",
       "      <td>Hot Tub Time Machine 2</td>\n",
       "      <td>When Lou, who has become the \"father of the In...</td>\n",
       "      <td>6.575393</td>\n",
       "      <td>...</td>\n",
       "      <td>2/20/15</td>\n",
       "      <td>93.0</td>\n",
       "      <td>[{'iso_639_1': 'en', 'name': 'English'}]</td>\n",
       "      <td>Released</td>\n",
       "      <td>The Laws of Space and Time are About to be Vio...</td>\n",
       "      <td>Hot Tub Time Machine 2</td>\n",
       "      <td>[{'id': 4379, 'name': 'time travel'}, {'id': 9...</td>\n",
       "      <td>[{'cast_id': 4, 'character': 'Lou', 'credit_id...</td>\n",
       "      <td>[{'credit_id': '59ac067c92514107af02c8c8', 'de...</td>\n",
       "      <td>12314651</td>\n",
       "    </tr>\n",
       "    <tr>\n",
       "      <th>1</th>\n",
       "      <td>2</td>\n",
       "      <td>[{'id': 107674, 'name': 'The Princess Diaries ...</td>\n",
       "      <td>40000000</td>\n",
       "      <td>[{'id': 35, 'name': 'Comedy'}, {'id': 18, 'nam...</td>\n",
       "      <td>NaN</td>\n",
       "      <td>tt0368933</td>\n",
       "      <td>en</td>\n",
       "      <td>The Princess Diaries 2: Royal Engagement</td>\n",
       "      <td>Mia Thermopolis is now a college graduate and ...</td>\n",
       "      <td>8.248895</td>\n",
       "      <td>...</td>\n",
       "      <td>8/6/04</td>\n",
       "      <td>113.0</td>\n",
       "      <td>[{'iso_639_1': 'en', 'name': 'English'}]</td>\n",
       "      <td>Released</td>\n",
       "      <td>It can take a lifetime to find true love; she'...</td>\n",
       "      <td>The Princess Diaries 2: Royal Engagement</td>\n",
       "      <td>[{'id': 2505, 'name': 'coronation'}, {'id': 42...</td>\n",
       "      <td>[{'cast_id': 1, 'character': 'Mia Thermopolis'...</td>\n",
       "      <td>[{'credit_id': '52fe43fe9251416c7502563d', 'de...</td>\n",
       "      <td>95149435</td>\n",
       "    </tr>\n",
       "  </tbody>\n",
       "</table>\n",
       "<p>2 rows × 23 columns</p>\n",
       "</div>"
      ],
      "text/plain": [
       "   id                              belongs_to_collection    budget  \\\n",
       "0   1  [{'id': 313576, 'name': 'Hot Tub Time Machine ...  14000000   \n",
       "1   2  [{'id': 107674, 'name': 'The Princess Diaries ...  40000000   \n",
       "\n",
       "                                              genres homepage    imdb_id  \\\n",
       "0                     [{'id': 35, 'name': 'Comedy'}]      NaN  tt2637294   \n",
       "1  [{'id': 35, 'name': 'Comedy'}, {'id': 18, 'nam...      NaN  tt0368933   \n",
       "\n",
       "  original_language                            original_title  \\\n",
       "0                en                    Hot Tub Time Machine 2   \n",
       "1                en  The Princess Diaries 2: Royal Engagement   \n",
       "\n",
       "                                            overview  popularity  ...  \\\n",
       "0  When Lou, who has become the \"father of the In...    6.575393  ...   \n",
       "1  Mia Thermopolis is now a college graduate and ...    8.248895  ...   \n",
       "\n",
       "  release_date runtime                          spoken_languages    status  \\\n",
       "0      2/20/15    93.0  [{'iso_639_1': 'en', 'name': 'English'}]  Released   \n",
       "1       8/6/04   113.0  [{'iso_639_1': 'en', 'name': 'English'}]  Released   \n",
       "\n",
       "                                             tagline  \\\n",
       "0  The Laws of Space and Time are About to be Vio...   \n",
       "1  It can take a lifetime to find true love; she'...   \n",
       "\n",
       "                                      title  \\\n",
       "0                    Hot Tub Time Machine 2   \n",
       "1  The Princess Diaries 2: Royal Engagement   \n",
       "\n",
       "                                            Keywords  \\\n",
       "0  [{'id': 4379, 'name': 'time travel'}, {'id': 9...   \n",
       "1  [{'id': 2505, 'name': 'coronation'}, {'id': 42...   \n",
       "\n",
       "                                                cast  \\\n",
       "0  [{'cast_id': 4, 'character': 'Lou', 'credit_id...   \n",
       "1  [{'cast_id': 1, 'character': 'Mia Thermopolis'...   \n",
       "\n",
       "                                                crew   revenue  \n",
       "0  [{'credit_id': '59ac067c92514107af02c8c8', 'de...  12314651  \n",
       "1  [{'credit_id': '52fe43fe9251416c7502563d', 'de...  95149435  \n",
       "\n",
       "[2 rows x 23 columns]"
      ]
     },
     "execution_count": 14,
     "metadata": {},
     "output_type": "execute_result"
    }
   ],
   "source": [
    "imdb_df_new.head(2)"
   ]
  },
  {
   "cell_type": "markdown",
   "id": "d669d03e",
   "metadata": {},
   "source": [
    "#### Q1.Which movie made the highest profit? Who were its producer and director? Identify the actors in that film."
   ]
  },
  {
   "cell_type": "code",
   "execution_count": 15,
   "id": "87bfdd11",
   "metadata": {},
   "outputs": [
    {
     "data": {
      "text/html": [
       "<div>\n",
       "<style scoped>\n",
       "    .dataframe tbody tr th:only-of-type {\n",
       "        vertical-align: middle;\n",
       "    }\n",
       "\n",
       "    .dataframe tbody tr th {\n",
       "        vertical-align: top;\n",
       "    }\n",
       "\n",
       "    .dataframe thead th {\n",
       "        text-align: right;\n",
       "    }\n",
       "</style>\n",
       "<table border=\"1\" class=\"dataframe\">\n",
       "  <thead>\n",
       "    <tr style=\"text-align: right;\">\n",
       "      <th></th>\n",
       "      <th>id</th>\n",
       "      <th>budget</th>\n",
       "      <th>popularity</th>\n",
       "      <th>runtime</th>\n",
       "      <th>revenue</th>\n",
       "    </tr>\n",
       "  </thead>\n",
       "  <tbody>\n",
       "    <tr>\n",
       "      <th>count</th>\n",
       "      <td>3000.000000</td>\n",
       "      <td>3.000000e+03</td>\n",
       "      <td>3000.000000</td>\n",
       "      <td>2998.000000</td>\n",
       "      <td>3.000000e+03</td>\n",
       "    </tr>\n",
       "    <tr>\n",
       "      <th>mean</th>\n",
       "      <td>1500.500000</td>\n",
       "      <td>2.253133e+07</td>\n",
       "      <td>8.463274</td>\n",
       "      <td>107.856571</td>\n",
       "      <td>6.672585e+07</td>\n",
       "    </tr>\n",
       "    <tr>\n",
       "      <th>std</th>\n",
       "      <td>866.169729</td>\n",
       "      <td>3.702609e+07</td>\n",
       "      <td>12.104000</td>\n",
       "      <td>22.086434</td>\n",
       "      <td>1.375323e+08</td>\n",
       "    </tr>\n",
       "    <tr>\n",
       "      <th>min</th>\n",
       "      <td>1.000000</td>\n",
       "      <td>0.000000e+00</td>\n",
       "      <td>0.000001</td>\n",
       "      <td>0.000000</td>\n",
       "      <td>1.000000e+00</td>\n",
       "    </tr>\n",
       "    <tr>\n",
       "      <th>25%</th>\n",
       "      <td>750.750000</td>\n",
       "      <td>0.000000e+00</td>\n",
       "      <td>4.018053</td>\n",
       "      <td>94.000000</td>\n",
       "      <td>2.379808e+06</td>\n",
       "    </tr>\n",
       "    <tr>\n",
       "      <th>50%</th>\n",
       "      <td>1500.500000</td>\n",
       "      <td>8.000000e+06</td>\n",
       "      <td>7.374861</td>\n",
       "      <td>104.000000</td>\n",
       "      <td>1.680707e+07</td>\n",
       "    </tr>\n",
       "    <tr>\n",
       "      <th>75%</th>\n",
       "      <td>2250.250000</td>\n",
       "      <td>2.900000e+07</td>\n",
       "      <td>10.890983</td>\n",
       "      <td>118.000000</td>\n",
       "      <td>6.891920e+07</td>\n",
       "    </tr>\n",
       "    <tr>\n",
       "      <th>max</th>\n",
       "      <td>3000.000000</td>\n",
       "      <td>3.800000e+08</td>\n",
       "      <td>294.337037</td>\n",
       "      <td>338.000000</td>\n",
       "      <td>1.519558e+09</td>\n",
       "    </tr>\n",
       "  </tbody>\n",
       "</table>\n",
       "</div>"
      ],
      "text/plain": [
       "                id        budget   popularity      runtime       revenue\n",
       "count  3000.000000  3.000000e+03  3000.000000  2998.000000  3.000000e+03\n",
       "mean   1500.500000  2.253133e+07     8.463274   107.856571  6.672585e+07\n",
       "std     866.169729  3.702609e+07    12.104000    22.086434  1.375323e+08\n",
       "min       1.000000  0.000000e+00     0.000001     0.000000  1.000000e+00\n",
       "25%     750.750000  0.000000e+00     4.018053    94.000000  2.379808e+06\n",
       "50%    1500.500000  8.000000e+06     7.374861   104.000000  1.680707e+07\n",
       "75%    2250.250000  2.900000e+07    10.890983   118.000000  6.891920e+07\n",
       "max    3000.000000  3.800000e+08   294.337037   338.000000  1.519558e+09"
      ]
     },
     "execution_count": 15,
     "metadata": {},
     "output_type": "execute_result"
    }
   ],
   "source": [
    "#checking for sanity in budget columns (outliers,vague values etc)\n",
    "imdb_df_new.describe()\n",
    "#budget of a movie in general cannot be 0 hence replacing those value with 0"
   ]
  },
  {
   "cell_type": "code",
   "execution_count": 16,
   "id": "20b3fb5b",
   "metadata": {},
   "outputs": [
    {
     "data": {
      "text/html": [
       "<div>\n",
       "<style scoped>\n",
       "    .dataframe tbody tr th:only-of-type {\n",
       "        vertical-align: middle;\n",
       "    }\n",
       "\n",
       "    .dataframe tbody tr th {\n",
       "        vertical-align: top;\n",
       "    }\n",
       "\n",
       "    .dataframe thead th {\n",
       "        text-align: right;\n",
       "    }\n",
       "</style>\n",
       "<table border=\"1\" class=\"dataframe\">\n",
       "  <thead>\n",
       "    <tr style=\"text-align: right;\">\n",
       "      <th></th>\n",
       "      <th>id</th>\n",
       "      <th>belongs_to_collection</th>\n",
       "      <th>budget</th>\n",
       "      <th>genres</th>\n",
       "      <th>homepage</th>\n",
       "      <th>imdb_id</th>\n",
       "      <th>original_language</th>\n",
       "      <th>original_title</th>\n",
       "      <th>overview</th>\n",
       "      <th>popularity</th>\n",
       "      <th>...</th>\n",
       "      <th>release_date</th>\n",
       "      <th>runtime</th>\n",
       "      <th>spoken_languages</th>\n",
       "      <th>status</th>\n",
       "      <th>tagline</th>\n",
       "      <th>title</th>\n",
       "      <th>Keywords</th>\n",
       "      <th>cast</th>\n",
       "      <th>crew</th>\n",
       "      <th>revenue</th>\n",
       "    </tr>\n",
       "  </thead>\n",
       "  <tbody>\n",
       "    <tr>\n",
       "      <th>4</th>\n",
       "      <td>5</td>\n",
       "      <td>NaN</td>\n",
       "      <td>0</td>\n",
       "      <td>[{'id': 28, 'name': 'Action'}, {'id': 53, 'nam...</td>\n",
       "      <td>NaN</td>\n",
       "      <td>tt1380152</td>\n",
       "      <td>ko</td>\n",
       "      <td>마린보이</td>\n",
       "      <td>Marine Boy is the story of a former national s...</td>\n",
       "      <td>1.148070</td>\n",
       "      <td>...</td>\n",
       "      <td>2/5/09</td>\n",
       "      <td>118.0</td>\n",
       "      <td>[{'iso_639_1': 'ko', 'name': '한국어/조선말'}]</td>\n",
       "      <td>Released</td>\n",
       "      <td>NaN</td>\n",
       "      <td>Marine Boy</td>\n",
       "      <td>NaN</td>\n",
       "      <td>[{'cast_id': 3, 'character': 'Chun-soo', 'cred...</td>\n",
       "      <td>[{'credit_id': '52fe464b9251416c75073b43', 'de...</td>\n",
       "      <td>3923970</td>\n",
       "    </tr>\n",
       "    <tr>\n",
       "      <th>7</th>\n",
       "      <td>8</td>\n",
       "      <td>NaN</td>\n",
       "      <td>0</td>\n",
       "      <td>[{'id': 99, 'name': 'Documentary'}]</td>\n",
       "      <td>NaN</td>\n",
       "      <td>tt0391024</td>\n",
       "      <td>en</td>\n",
       "      <td>Control Room</td>\n",
       "      <td>A chronicle which provides a rare window into ...</td>\n",
       "      <td>1.949044</td>\n",
       "      <td>...</td>\n",
       "      <td>1/15/04</td>\n",
       "      <td>84.0</td>\n",
       "      <td>[{'iso_639_1': 'ar', 'name': 'العربية'}, {'iso...</td>\n",
       "      <td>Released</td>\n",
       "      <td>Different channels. Different truths.</td>\n",
       "      <td>Control Room</td>\n",
       "      <td>[{'id': 917, 'name': 'journalism'}, {'id': 163...</td>\n",
       "      <td>[{'cast_id': 2, 'character': 'Himself', 'credi...</td>\n",
       "      <td>[{'credit_id': '52fe47a69251416c750a0daf', 'de...</td>\n",
       "      <td>2586511</td>\n",
       "    </tr>\n",
       "    <tr>\n",
       "      <th>8</th>\n",
       "      <td>9</td>\n",
       "      <td>[{'id': 256377, 'name': 'The Muppet Collection...</td>\n",
       "      <td>0</td>\n",
       "      <td>[{'id': 28, 'name': 'Action'}, {'id': 35, 'nam...</td>\n",
       "      <td>NaN</td>\n",
       "      <td>tt0117110</td>\n",
       "      <td>en</td>\n",
       "      <td>Muppet Treasure Island</td>\n",
       "      <td>After telling the story of Flint's last journe...</td>\n",
       "      <td>6.902423</td>\n",
       "      <td>...</td>\n",
       "      <td>2/16/96</td>\n",
       "      <td>100.0</td>\n",
       "      <td>[{'iso_639_1': 'en', 'name': 'English'}]</td>\n",
       "      <td>Released</td>\n",
       "      <td>Set sail for Muppet mayhem!</td>\n",
       "      <td>Muppet Treasure Island</td>\n",
       "      <td>[{'id': 2041, 'name': 'island'}, {'id': 4418, ...</td>\n",
       "      <td>[{'cast_id': 1, 'character': 'Long John Silver...</td>\n",
       "      <td>[{'credit_id': '52fe43c89251416c7501deb3', 'de...</td>\n",
       "      <td>34327391</td>\n",
       "    </tr>\n",
       "  </tbody>\n",
       "</table>\n",
       "<p>3 rows × 23 columns</p>\n",
       "</div>"
      ],
      "text/plain": [
       "   id                              belongs_to_collection  budget  \\\n",
       "4   5                                                NaN       0   \n",
       "7   8                                                NaN       0   \n",
       "8   9  [{'id': 256377, 'name': 'The Muppet Collection...       0   \n",
       "\n",
       "                                              genres homepage    imdb_id  \\\n",
       "4  [{'id': 28, 'name': 'Action'}, {'id': 53, 'nam...      NaN  tt1380152   \n",
       "7                [{'id': 99, 'name': 'Documentary'}]      NaN  tt0391024   \n",
       "8  [{'id': 28, 'name': 'Action'}, {'id': 35, 'nam...      NaN  tt0117110   \n",
       "\n",
       "  original_language          original_title  \\\n",
       "4                ko                    마린보이   \n",
       "7                en            Control Room   \n",
       "8                en  Muppet Treasure Island   \n",
       "\n",
       "                                            overview  popularity  ...  \\\n",
       "4  Marine Boy is the story of a former national s...    1.148070  ...   \n",
       "7  A chronicle which provides a rare window into ...    1.949044  ...   \n",
       "8  After telling the story of Flint's last journe...    6.902423  ...   \n",
       "\n",
       "  release_date runtime                                   spoken_languages  \\\n",
       "4       2/5/09   118.0           [{'iso_639_1': 'ko', 'name': '한국어/조선말'}]   \n",
       "7      1/15/04    84.0  [{'iso_639_1': 'ar', 'name': 'العربية'}, {'iso...   \n",
       "8      2/16/96   100.0           [{'iso_639_1': 'en', 'name': 'English'}]   \n",
       "\n",
       "     status                                tagline                   title  \\\n",
       "4  Released                                    NaN              Marine Boy   \n",
       "7  Released  Different channels. Different truths.            Control Room   \n",
       "8  Released            Set sail for Muppet mayhem!  Muppet Treasure Island   \n",
       "\n",
       "                                            Keywords  \\\n",
       "4                                                NaN   \n",
       "7  [{'id': 917, 'name': 'journalism'}, {'id': 163...   \n",
       "8  [{'id': 2041, 'name': 'island'}, {'id': 4418, ...   \n",
       "\n",
       "                                                cast  \\\n",
       "4  [{'cast_id': 3, 'character': 'Chun-soo', 'cred...   \n",
       "7  [{'cast_id': 2, 'character': 'Himself', 'credi...   \n",
       "8  [{'cast_id': 1, 'character': 'Long John Silver...   \n",
       "\n",
       "                                                crew   revenue  \n",
       "4  [{'credit_id': '52fe464b9251416c75073b43', 'de...   3923970  \n",
       "7  [{'credit_id': '52fe47a69251416c750a0daf', 'de...   2586511  \n",
       "8  [{'credit_id': '52fe43c89251416c7501deb3', 'de...  34327391  \n",
       "\n",
       "[3 rows x 23 columns]"
      ]
     },
     "execution_count": 16,
     "metadata": {},
     "output_type": "execute_result"
    }
   ],
   "source": [
    "imdb_df_new[imdb_df_new['budget']==0].head(3)"
   ]
  },
  {
   "cell_type": "code",
   "execution_count": 17,
   "id": "ac60bc94",
   "metadata": {},
   "outputs": [
    {
     "data": {
      "text/plain": [
       "8000000.0"
      ]
     },
     "execution_count": 17,
     "metadata": {},
     "output_type": "execute_result"
    }
   ],
   "source": [
    "imdb_df_new['budget'].median()"
   ]
  },
  {
   "cell_type": "code",
   "execution_count": 18,
   "id": "7eb9d7f2",
   "metadata": {},
   "outputs": [],
   "source": [
    "#Replace extremely low values of budget and revenue column with median values of budget, revenue\n",
    "imdb_df_new.loc[imdb_df_new['budget']<1000,'budget']= imdb_df_new['budget'].median()\n",
    "\n",
    "imdb_df_new.loc[imdb_df_new['revenue']<1000,'revenue']= imdb_df_new['revenue'].median()"
   ]
  },
  {
   "cell_type": "code",
   "execution_count": 19,
   "id": "8ba63ae3",
   "metadata": {},
   "outputs": [
    {
     "data": {
      "text/html": [
       "<div>\n",
       "<style scoped>\n",
       "    .dataframe tbody tr th:only-of-type {\n",
       "        vertical-align: middle;\n",
       "    }\n",
       "\n",
       "    .dataframe tbody tr th {\n",
       "        vertical-align: top;\n",
       "    }\n",
       "\n",
       "    .dataframe thead th {\n",
       "        text-align: right;\n",
       "    }\n",
       "</style>\n",
       "<table border=\"1\" class=\"dataframe\">\n",
       "  <thead>\n",
       "    <tr style=\"text-align: right;\">\n",
       "      <th></th>\n",
       "      <th>id</th>\n",
       "      <th>budget</th>\n",
       "      <th>popularity</th>\n",
       "      <th>runtime</th>\n",
       "      <th>revenue</th>\n",
       "    </tr>\n",
       "  </thead>\n",
       "  <tbody>\n",
       "    <tr>\n",
       "      <th>count</th>\n",
       "      <td>3000.000000</td>\n",
       "      <td>3.000000e+03</td>\n",
       "      <td>3000.000000</td>\n",
       "      <td>2998.000000</td>\n",
       "      <td>3.000000e+03</td>\n",
       "    </tr>\n",
       "    <tr>\n",
       "      <th>mean</th>\n",
       "      <td>1500.500000</td>\n",
       "      <td>2.474467e+07</td>\n",
       "      <td>8.463274</td>\n",
       "      <td>107.856571</td>\n",
       "      <td>6.704518e+07</td>\n",
       "    </tr>\n",
       "    <tr>\n",
       "      <th>std</th>\n",
       "      <td>866.169729</td>\n",
       "      <td>3.583254e+07</td>\n",
       "      <td>12.104000</td>\n",
       "      <td>22.086434</td>\n",
       "      <td>1.373964e+08</td>\n",
       "    </tr>\n",
       "    <tr>\n",
       "      <th>min</th>\n",
       "      <td>1.000000</td>\n",
       "      <td>2.500000e+03</td>\n",
       "      <td>0.000001</td>\n",
       "      <td>0.000000</td>\n",
       "      <td>1.404000e+03</td>\n",
       "    </tr>\n",
       "    <tr>\n",
       "      <th>25%</th>\n",
       "      <td>750.750000</td>\n",
       "      <td>8.000000e+06</td>\n",
       "      <td>4.018053</td>\n",
       "      <td>94.000000</td>\n",
       "      <td>2.947600e+06</td>\n",
       "    </tr>\n",
       "    <tr>\n",
       "      <th>50%</th>\n",
       "      <td>1500.500000</td>\n",
       "      <td>8.000000e+06</td>\n",
       "      <td>7.374861</td>\n",
       "      <td>104.000000</td>\n",
       "      <td>1.680873e+07</td>\n",
       "    </tr>\n",
       "    <tr>\n",
       "      <th>75%</th>\n",
       "      <td>2250.250000</td>\n",
       "      <td>2.900000e+07</td>\n",
       "      <td>10.890983</td>\n",
       "      <td>118.000000</td>\n",
       "      <td>6.891920e+07</td>\n",
       "    </tr>\n",
       "    <tr>\n",
       "      <th>max</th>\n",
       "      <td>3000.000000</td>\n",
       "      <td>3.800000e+08</td>\n",
       "      <td>294.337037</td>\n",
       "      <td>338.000000</td>\n",
       "      <td>1.519558e+09</td>\n",
       "    </tr>\n",
       "  </tbody>\n",
       "</table>\n",
       "</div>"
      ],
      "text/plain": [
       "                id        budget   popularity      runtime       revenue\n",
       "count  3000.000000  3.000000e+03  3000.000000  2998.000000  3.000000e+03\n",
       "mean   1500.500000  2.474467e+07     8.463274   107.856571  6.704518e+07\n",
       "std     866.169729  3.583254e+07    12.104000    22.086434  1.373964e+08\n",
       "min       1.000000  2.500000e+03     0.000001     0.000000  1.404000e+03\n",
       "25%     750.750000  8.000000e+06     4.018053    94.000000  2.947600e+06\n",
       "50%    1500.500000  8.000000e+06     7.374861   104.000000  1.680873e+07\n",
       "75%    2250.250000  2.900000e+07    10.890983   118.000000  6.891920e+07\n",
       "max    3000.000000  3.800000e+08   294.337037   338.000000  1.519558e+09"
      ]
     },
     "execution_count": 19,
     "metadata": {},
     "output_type": "execute_result"
    }
   ],
   "source": [
    "imdb_df_new.describe() #now fine"
   ]
  },
  {
   "cell_type": "code",
   "execution_count": 20,
   "id": "c7898fea",
   "metadata": {},
   "outputs": [
    {
     "data": {
      "text/plain": [
       "7"
      ]
     },
     "execution_count": 20,
     "metadata": {},
     "output_type": "execute_result"
    }
   ],
   "source": [
    "imdb_df_new['genres'].isnull().sum()"
   ]
  },
  {
   "cell_type": "code",
   "execution_count": 21,
   "id": "b59dc569",
   "metadata": {},
   "outputs": [],
   "source": [
    "#create profit and ROI column\n",
    "imdb_df_new['profit'] = imdb_df_new['revenue'] - imdb_df_new['budget']\n",
    "imdb_df_new['roi']= 100* (imdb_df_new['profit']/imdb_df_new['budget'])"
   ]
  },
  {
   "cell_type": "code",
   "execution_count": 22,
   "id": "f0e1bef0",
   "metadata": {},
   "outputs": [
    {
     "data": {
      "text/html": [
       "<div>\n",
       "<style scoped>\n",
       "    .dataframe tbody tr th:only-of-type {\n",
       "        vertical-align: middle;\n",
       "    }\n",
       "\n",
       "    .dataframe tbody tr th {\n",
       "        vertical-align: top;\n",
       "    }\n",
       "\n",
       "    .dataframe thead th {\n",
       "        text-align: right;\n",
       "    }\n",
       "</style>\n",
       "<table border=\"1\" class=\"dataframe\">\n",
       "  <thead>\n",
       "    <tr style=\"text-align: right;\">\n",
       "      <th></th>\n",
       "      <th>id</th>\n",
       "      <th>belongs_to_collection</th>\n",
       "      <th>budget</th>\n",
       "      <th>genres</th>\n",
       "      <th>homepage</th>\n",
       "      <th>imdb_id</th>\n",
       "      <th>original_language</th>\n",
       "      <th>original_title</th>\n",
       "      <th>overview</th>\n",
       "      <th>popularity</th>\n",
       "      <th>...</th>\n",
       "      <th>spoken_languages</th>\n",
       "      <th>status</th>\n",
       "      <th>tagline</th>\n",
       "      <th>title</th>\n",
       "      <th>Keywords</th>\n",
       "      <th>cast</th>\n",
       "      <th>crew</th>\n",
       "      <th>revenue</th>\n",
       "      <th>profit</th>\n",
       "      <th>roi</th>\n",
       "    </tr>\n",
       "  </thead>\n",
       "  <tbody>\n",
       "    <tr>\n",
       "      <th>0</th>\n",
       "      <td>1</td>\n",
       "      <td>[{'id': 313576, 'name': 'Hot Tub Time Machine ...</td>\n",
       "      <td>14000000</td>\n",
       "      <td>[{'id': 35, 'name': 'Comedy'}]</td>\n",
       "      <td>NaN</td>\n",
       "      <td>tt2637294</td>\n",
       "      <td>en</td>\n",
       "      <td>Hot Tub Time Machine 2</td>\n",
       "      <td>When Lou, who has become the \"father of the In...</td>\n",
       "      <td>6.575393</td>\n",
       "      <td>...</td>\n",
       "      <td>[{'iso_639_1': 'en', 'name': 'English'}]</td>\n",
       "      <td>Released</td>\n",
       "      <td>The Laws of Space and Time are About to be Vio...</td>\n",
       "      <td>Hot Tub Time Machine 2</td>\n",
       "      <td>[{'id': 4379, 'name': 'time travel'}, {'id': 9...</td>\n",
       "      <td>[{'cast_id': 4, 'character': 'Lou', 'credit_id...</td>\n",
       "      <td>[{'credit_id': '59ac067c92514107af02c8c8', 'de...</td>\n",
       "      <td>12314651</td>\n",
       "      <td>-1685349</td>\n",
       "      <td>-12.038207</td>\n",
       "    </tr>\n",
       "    <tr>\n",
       "      <th>1</th>\n",
       "      <td>2</td>\n",
       "      <td>[{'id': 107674, 'name': 'The Princess Diaries ...</td>\n",
       "      <td>40000000</td>\n",
       "      <td>[{'id': 35, 'name': 'Comedy'}, {'id': 18, 'nam...</td>\n",
       "      <td>NaN</td>\n",
       "      <td>tt0368933</td>\n",
       "      <td>en</td>\n",
       "      <td>The Princess Diaries 2: Royal Engagement</td>\n",
       "      <td>Mia Thermopolis is now a college graduate and ...</td>\n",
       "      <td>8.248895</td>\n",
       "      <td>...</td>\n",
       "      <td>[{'iso_639_1': 'en', 'name': 'English'}]</td>\n",
       "      <td>Released</td>\n",
       "      <td>It can take a lifetime to find true love; she'...</td>\n",
       "      <td>The Princess Diaries 2: Royal Engagement</td>\n",
       "      <td>[{'id': 2505, 'name': 'coronation'}, {'id': 42...</td>\n",
       "      <td>[{'cast_id': 1, 'character': 'Mia Thermopolis'...</td>\n",
       "      <td>[{'credit_id': '52fe43fe9251416c7502563d', 'de...</td>\n",
       "      <td>95149435</td>\n",
       "      <td>55149435</td>\n",
       "      <td>137.873588</td>\n",
       "    </tr>\n",
       "  </tbody>\n",
       "</table>\n",
       "<p>2 rows × 25 columns</p>\n",
       "</div>"
      ],
      "text/plain": [
       "   id                              belongs_to_collection    budget  \\\n",
       "0   1  [{'id': 313576, 'name': 'Hot Tub Time Machine ...  14000000   \n",
       "1   2  [{'id': 107674, 'name': 'The Princess Diaries ...  40000000   \n",
       "\n",
       "                                              genres homepage    imdb_id  \\\n",
       "0                     [{'id': 35, 'name': 'Comedy'}]      NaN  tt2637294   \n",
       "1  [{'id': 35, 'name': 'Comedy'}, {'id': 18, 'nam...      NaN  tt0368933   \n",
       "\n",
       "  original_language                            original_title  \\\n",
       "0                en                    Hot Tub Time Machine 2   \n",
       "1                en  The Princess Diaries 2: Royal Engagement   \n",
       "\n",
       "                                            overview  popularity  ...  \\\n",
       "0  When Lou, who has become the \"father of the In...    6.575393  ...   \n",
       "1  Mia Thermopolis is now a college graduate and ...    8.248895  ...   \n",
       "\n",
       "                           spoken_languages    status  \\\n",
       "0  [{'iso_639_1': 'en', 'name': 'English'}]  Released   \n",
       "1  [{'iso_639_1': 'en', 'name': 'English'}]  Released   \n",
       "\n",
       "                                             tagline  \\\n",
       "0  The Laws of Space and Time are About to be Vio...   \n",
       "1  It can take a lifetime to find true love; she'...   \n",
       "\n",
       "                                      title  \\\n",
       "0                    Hot Tub Time Machine 2   \n",
       "1  The Princess Diaries 2: Royal Engagement   \n",
       "\n",
       "                                            Keywords  \\\n",
       "0  [{'id': 4379, 'name': 'time travel'}, {'id': 9...   \n",
       "1  [{'id': 2505, 'name': 'coronation'}, {'id': 42...   \n",
       "\n",
       "                                                cast  \\\n",
       "0  [{'cast_id': 4, 'character': 'Lou', 'credit_id...   \n",
       "1  [{'cast_id': 1, 'character': 'Mia Thermopolis'...   \n",
       "\n",
       "                                                crew   revenue    profit  \\\n",
       "0  [{'credit_id': '59ac067c92514107af02c8c8', 'de...  12314651  -1685349   \n",
       "1  [{'credit_id': '52fe43fe9251416c7502563d', 'de...  95149435  55149435   \n",
       "\n",
       "          roi  \n",
       "0  -12.038207  \n",
       "1  137.873588  \n",
       "\n",
       "[2 rows x 25 columns]"
      ]
     },
     "execution_count": 22,
     "metadata": {},
     "output_type": "execute_result"
    }
   ],
   "source": [
    "imdb_df_new.head(2)"
   ]
  },
  {
   "cell_type": "code",
   "execution_count": 23,
   "id": "d99097e5",
   "metadata": {},
   "outputs": [
    {
     "data": {
      "text/plain": [
       "1316249360"
      ]
     },
     "execution_count": 23,
     "metadata": {},
     "output_type": "execute_result"
    }
   ],
   "source": [
    "#maximum profit\n",
    "imdb_df_new['profit'].max()"
   ]
  },
  {
   "cell_type": "code",
   "execution_count": 24,
   "id": "c2650932",
   "metadata": {},
   "outputs": [
    {
     "data": {
      "text/plain": [
       "1761"
      ]
     },
     "execution_count": 24,
     "metadata": {},
     "output_type": "execute_result"
    }
   ],
   "source": [
    "#find index or row which have the max profit using .idxmax()\n",
    "#.idxmax()-->> returns the row number(index) for the max value of the column\n",
    "imdb_df_new['profit'].idxmax()"
   ]
  },
  {
   "cell_type": "code",
   "execution_count": 25,
   "id": "ac0eb2b0",
   "metadata": {},
   "outputs": [
    {
     "data": {
      "text/plain": [
       "'Furious 7'"
      ]
     },
     "execution_count": 25,
     "metadata": {},
     "output_type": "execute_result"
    }
   ],
   "source": [
    "imdb_df_new.loc[imdb_df_new['profit'].idxmax(),'original_title']"
   ]
  },
  {
   "cell_type": "code",
   "execution_count": 26,
   "id": "246a4d43",
   "metadata": {},
   "outputs": [],
   "source": [
    "max_profit_movie_df = imdb_df_new.iloc[imdb_df_new['profit'].idxmax()]"
   ]
  },
  {
   "cell_type": "code",
   "execution_count": 27,
   "id": "741ddf4c",
   "metadata": {},
   "outputs": [
    {
     "data": {
      "text/plain": [
       "id                                                                    1762\n",
       "belongs_to_collection    [{'id': 9485, 'name': 'The Fast and the Furiou...\n",
       "budget                                                           190000000\n",
       "genres                                      [{'id': 28, 'name': 'Action'}]\n",
       "homepage                                          http://www.furious7.com/\n",
       "Name: 1761, dtype: object"
      ]
     },
     "execution_count": 27,
     "metadata": {},
     "output_type": "execute_result"
    }
   ],
   "source": [
    "max_profit_movie_df.head()"
   ]
  },
  {
   "cell_type": "code",
   "execution_count": 28,
   "id": "b1e1050c",
   "metadata": {},
   "outputs": [
    {
     "data": {
      "text/plain": [
       "'Vin Diesel'"
      ]
     },
     "execution_count": 28,
     "metadata": {},
     "output_type": "execute_result"
    }
   ],
   "source": [
    "max_profit_movie_df.loc['cast'][0]['name']"
   ]
  },
  {
   "cell_type": "code",
   "execution_count": 29,
   "id": "daf1c98a",
   "metadata": {},
   "outputs": [
    {
     "data": {
      "text/plain": [
       "[{'credit_id': '52fe4cc8c3a36847f823e681',\n",
       "  'department': 'Production',\n",
       "  'gender': 2,\n",
       "  'id': 12835,\n",
       "  'job': 'Producer',\n",
       "  'name': 'Vin Diesel',\n",
       "  'profile_path': '/7rwSXluNWZAluYMOEWBxkPmckES.jpg'},\n",
       " {'credit_id': '52fe4cc8c3a36847f823e687',\n",
       "  'department': 'Production',\n",
       "  'gender': 2,\n",
       "  'id': 11874,\n",
       "  'job': 'Producer',\n",
       "  'name': 'Neal H. Moritz',\n",
       "  'profile_path': '/cNcsEYmoS4niCz3UkVAA09dUIob.jpg'},\n",
       " {'credit_id': '52fe4cc8c3a36847f823e68d',\n",
       "  'department': 'Writing',\n",
       "  'gender': 2,\n",
       "  'id': 58191,\n",
       "  'job': 'Writer',\n",
       "  'name': 'Chris Morgan',\n",
       "  'profile_path': '/dUGxIwFBLrSFLImxjeda1krndMO.jpg'}]"
      ]
     },
     "execution_count": 29,
     "metadata": {},
     "output_type": "execute_result"
    }
   ],
   "source": [
    "crew_list= max_profit_movie_df.loc['crew']\n",
    "crew_list[0:3]"
   ]
  },
  {
   "cell_type": "markdown",
   "id": "80d40e34",
   "metadata": {},
   "source": [
    "#### Name of the director and producer of the movie which made highest profit are:"
   ]
  },
  {
   "cell_type": "code",
   "execution_count": 30,
   "id": "f559d9ce",
   "metadata": {},
   "outputs": [],
   "source": [
    "producer_list=[]\n",
    "director_list=[]\n",
    "for elem in crew_list:\n",
    "  if elem['job']=='Producer':\n",
    "    producer_list.append(elem['name'])\n",
    "  if elem['job']=='Director':\n",
    "    director_list.append(elem['name'])\n"
   ]
  },
  {
   "cell_type": "code",
   "execution_count": 31,
   "id": "8f55be25",
   "metadata": {},
   "outputs": [
    {
     "name": "stdout",
     "output_type": "stream",
     "text": [
      "PRODUCERS : ['Vin Diesel', 'Neal H. Moritz', 'Michael Fottrell', 'Brandon Birtell']\n",
      "DIRECTORS : ['James Wan']\n"
     ]
    }
   ],
   "source": [
    "print(f'PRODUCERS : {producer_list}')\n",
    "print(f'DIRECTORS : {director_list}')"
   ]
  },
  {
   "cell_type": "code",
   "execution_count": 32,
   "id": "d616dff1",
   "metadata": {},
   "outputs": [],
   "source": [
    "cast_list =max_profit_movie_df['cast']"
   ]
  },
  {
   "cell_type": "code",
   "execution_count": 33,
   "id": "79008493",
   "metadata": {},
   "outputs": [
    {
     "data": {
      "text/plain": [
       "[{'cast_id': 17,\n",
       "  'character': 'Dominic Toretto',\n",
       "  'credit_id': '5431dfd10e0a265915002c34',\n",
       "  'gender': 2,\n",
       "  'id': 12835,\n",
       "  'name': 'Vin Diesel',\n",
       "  'order': 0,\n",
       "  'profile_path': '/7rwSXluNWZAluYMOEWBxkPmckES.jpg'},\n",
       " {'cast_id': 19,\n",
       "  'character': \"Brian O'Conner\",\n",
       "  'credit_id': '5431dfe4c3a3681143002b98',\n",
       "  'gender': 2,\n",
       "  'id': 8167,\n",
       "  'name': 'Paul Walker',\n",
       "  'order': 1,\n",
       "  'profile_path': '/iqvYezRoEY5k8wnlfHriHQfl5dX.jpg'},\n",
       " {'cast_id': 18,\n",
       "  'character': 'Hobbs',\n",
       "  'credit_id': '5431dfdbc3a36831a6004376',\n",
       "  'gender': 2,\n",
       "  'id': 18918,\n",
       "  'name': 'Dwayne Johnson',\n",
       "  'order': 2,\n",
       "  'profile_path': '/kuqFzlYMc2IrsOyPznMd1FroeGq.jpg'}]"
      ]
     },
     "execution_count": 33,
     "metadata": {},
     "output_type": "execute_result"
    }
   ],
   "source": [
    "cast_list[0:3]"
   ]
  },
  {
   "cell_type": "markdown",
   "id": "dc38fc71",
   "metadata": {},
   "source": [
    "### Actors in the Highest profit movie"
   ]
  },
  {
   "cell_type": "code",
   "execution_count": 34,
   "id": "bb0966b5",
   "metadata": {},
   "outputs": [],
   "source": [
    "actor_list=[]\n",
    "for elem in cast_list:\n",
    "  actor_list.append(elem['name'])"
   ]
  },
  {
   "cell_type": "code",
   "execution_count": 35,
   "id": "06e1ea9c",
   "metadata": {},
   "outputs": [
    {
     "name": "stdout",
     "output_type": "stream",
     "text": [
      "Actors of the movie are :\n"
     ]
    },
    {
     "data": {
      "text/plain": [
       "['Vin Diesel',\n",
       " 'Paul Walker',\n",
       " 'Dwayne Johnson',\n",
       " 'Michelle Rodriguez',\n",
       " 'Tyrese Gibson',\n",
       " 'Ludacris',\n",
       " 'Jordana Brewster',\n",
       " 'Djimon Hounsou',\n",
       " 'Tony Jaa',\n",
       " 'Ronda Rousey',\n",
       " 'Nathalie Emmanuel',\n",
       " 'Kurt Russell',\n",
       " 'Jason Statham',\n",
       " 'Sung Kang',\n",
       " 'Gal Gadot',\n",
       " 'Lucas Black',\n",
       " 'Elsa Pataky',\n",
       " 'Noel Gugliemi',\n",
       " 'John Brotherton',\n",
       " 'Luke Evans',\n",
       " 'Ali Fazal',\n",
       " 'Miller Kimsey',\n",
       " 'Charlie Kimsey',\n",
       " 'Eden Estrella',\n",
       " 'Gentry White',\n",
       " 'Iggy Azalea',\n",
       " 'Jon Lee Brody',\n",
       " 'Levy Tran',\n",
       " 'Anna Colwell',\n",
       " 'Viktor Hernandez',\n",
       " 'Steve Coulter',\n",
       " 'Robert Pralgo',\n",
       " 'Antwan Mills',\n",
       " 'J.J. Phillips',\n",
       " 'Jorge Ferragut',\n",
       " 'Sara Sohn',\n",
       " 'Benjamin Blankenship',\n",
       " 'D.J. Hapa',\n",
       " 'T-Pain',\n",
       " 'Brian Mahoney',\n",
       " 'Brittney Alger',\n",
       " 'Romeo Santos',\n",
       " 'Jocelin Donahue',\n",
       " 'Stephanie Langston',\n",
       " 'Jorge-Luis Pallo',\n",
       " 'Tego Calder√≥n',\n",
       " 'Nathalie Kelley',\n",
       " 'Shad Moss',\n",
       " 'Don Omar',\n",
       " 'Klement Tinaj',\n",
       " 'Caleb Walker',\n",
       " 'Cody Walker']"
      ]
     },
     "execution_count": 35,
     "metadata": {},
     "output_type": "execute_result"
    }
   ],
   "source": [
    "#actors\n",
    "print(f'Actors of the movie are :')\n",
    "actor_list"
   ]
  },
  {
   "cell_type": "markdown",
   "id": "ebd70240",
   "metadata": {},
   "source": [
    "#### Understanding the groupby function"
   ]
  },
  {
   "cell_type": "code",
   "execution_count": 38,
   "id": "a39c59e0",
   "metadata": {},
   "outputs": [],
   "source": [
    "#kn.groupby('Name')['No.'].mean()\n",
    "#kn.groupby('Name').count()"
   ]
  },
  {
   "cell_type": "markdown",
   "id": "47e267fd",
   "metadata": {},
   "source": [
    "#### Q2.This data has information about movies made in different languages. Which language has the highest average ROI (return on investment)?"
   ]
  },
  {
   "cell_type": "code",
   "execution_count": 39,
   "id": "8a376fd3",
   "metadata": {},
   "outputs": [],
   "source": [
    " #we already calculated roi above\n",
    " #df['roi'] = 100 * df['profit']/df['budget']"
   ]
  },
  {
   "cell_type": "code",
   "execution_count": 40,
   "id": "8747179c",
   "metadata": {},
   "outputs": [
    {
     "data": {
      "text/html": [
       "<div>\n",
       "<style scoped>\n",
       "    .dataframe tbody tr th:only-of-type {\n",
       "        vertical-align: middle;\n",
       "    }\n",
       "\n",
       "    .dataframe tbody tr th {\n",
       "        vertical-align: top;\n",
       "    }\n",
       "\n",
       "    .dataframe thead th {\n",
       "        text-align: right;\n",
       "    }\n",
       "</style>\n",
       "<table border=\"1\" class=\"dataframe\">\n",
       "  <thead>\n",
       "    <tr style=\"text-align: right;\">\n",
       "      <th></th>\n",
       "      <th>original_language</th>\n",
       "      <th>roi</th>\n",
       "    </tr>\n",
       "  </thead>\n",
       "  <tbody>\n",
       "    <tr>\n",
       "      <th>18</th>\n",
       "      <td>ko</td>\n",
       "      <td>11309.685605</td>\n",
       "    </tr>\n",
       "    <tr>\n",
       "      <th>6</th>\n",
       "      <td>el</td>\n",
       "      <td>5198.013245</td>\n",
       "    </tr>\n",
       "    <tr>\n",
       "      <th>28</th>\n",
       "      <td>sr</td>\n",
       "      <td>3261.413600</td>\n",
       "    </tr>\n",
       "  </tbody>\n",
       "</table>\n",
       "</div>"
      ],
      "text/plain": [
       "   original_language           roi\n",
       "18                ko  11309.685605\n",
       "6                 el   5198.013245\n",
       "28                sr   3261.413600"
      ]
     },
     "execution_count": 40,
     "metadata": {},
     "output_type": "execute_result"
    }
   ],
   "source": [
    "#Use groupby function on movie languages and ROI and finding mean\n",
    "imdb_df_new.groupby('original_language')['roi'].mean().reset_index().sort_values(by='roi',ascending=False).head(3)"
   ]
  },
  {
   "cell_type": "code",
   "execution_count": 41,
   "id": "f4e35b1d",
   "metadata": {},
   "outputs": [
    {
     "name": "stdout",
     "output_type": "stream",
     "text": [
      "Language with highest average roi is\n"
     ]
    },
    {
     "data": {
      "text/plain": [
       "'ko'"
      ]
     },
     "execution_count": 41,
     "metadata": {},
     "output_type": "execute_result"
    }
   ],
   "source": [
    "print('Language with highest average roi is')\n",
    "imdb_df_new.groupby('original_language')['roi'].mean().reset_index().sort_values(by='roi',ascending=False).iloc[0,0]"
   ]
  },
  {
   "cell_type": "markdown",
   "id": "f2b56d3f",
   "metadata": {},
   "source": [
    "#### Q3.Find out the unique genres of movies in this dataset."
   ]
  },
  {
   "cell_type": "code",
   "execution_count": 42,
   "id": "4f6e6f59",
   "metadata": {},
   "outputs": [],
   "source": [
    "#considering only those rows in genres column which have no null values\n",
    "no_na_genres = imdb_df_new[~imdb_df_new['genres'].isna()]"
   ]
  },
  {
   "cell_type": "code",
   "execution_count": 43,
   "id": "9652ae48",
   "metadata": {},
   "outputs": [
    {
     "data": {
      "text/plain": [
       "2993"
      ]
     },
     "execution_count": 43,
     "metadata": {},
     "output_type": "execute_result"
    }
   ],
   "source": [
    "len(no_na_genres)"
   ]
  },
  {
   "cell_type": "code",
   "execution_count": 44,
   "id": "873d6d8b",
   "metadata": {},
   "outputs": [
    {
     "data": {
      "text/plain": [
       "[{'id': 35, 'name': 'Comedy'}]"
      ]
     },
     "execution_count": 44,
     "metadata": {},
     "output_type": "execute_result"
    }
   ],
   "source": [
    "no_na_genres.loc[0,'genres']"
   ]
  },
  {
   "cell_type": "code",
   "execution_count": 45,
   "id": "e70d2731",
   "metadata": {},
   "outputs": [
    {
     "data": {
      "text/plain": [
       "{'id': 35, 'name': 'Comedy'}"
      ]
     },
     "execution_count": 45,
     "metadata": {},
     "output_type": "execute_result"
    }
   ],
   "source": [
    "no_na_genres.loc[0,'genres'][0]"
   ]
  },
  {
   "cell_type": "code",
   "execution_count": 46,
   "id": "97bec91c",
   "metadata": {},
   "outputs": [
    {
     "data": {
      "text/plain": [
       "[{'id': 53, 'name': 'Thriller'}, {'id': 18, 'name': 'Drama'}]"
      ]
     },
     "execution_count": 46,
     "metadata": {},
     "output_type": "execute_result"
    }
   ],
   "source": [
    "no_na_genres.loc[3,'genres']"
   ]
  },
  {
   "cell_type": "code",
   "execution_count": 47,
   "id": "65d49173",
   "metadata": {},
   "outputs": [
    {
     "data": {
      "text/html": [
       "<div>\n",
       "<style scoped>\n",
       "    .dataframe tbody tr th:only-of-type {\n",
       "        vertical-align: middle;\n",
       "    }\n",
       "\n",
       "    .dataframe tbody tr th {\n",
       "        vertical-align: top;\n",
       "    }\n",
       "\n",
       "    .dataframe thead th {\n",
       "        text-align: right;\n",
       "    }\n",
       "</style>\n",
       "<table border=\"1\" class=\"dataframe\">\n",
       "  <thead>\n",
       "    <tr style=\"text-align: right;\">\n",
       "      <th></th>\n",
       "      <th>Unique Genres</th>\n",
       "    </tr>\n",
       "  </thead>\n",
       "  <tbody>\n",
       "    <tr>\n",
       "      <th>0</th>\n",
       "      <td>Family</td>\n",
       "    </tr>\n",
       "    <tr>\n",
       "      <th>1</th>\n",
       "      <td>Adventure</td>\n",
       "    </tr>\n",
       "    <tr>\n",
       "      <th>2</th>\n",
       "      <td>Crime</td>\n",
       "    </tr>\n",
       "    <tr>\n",
       "      <th>3</th>\n",
       "      <td>History</td>\n",
       "    </tr>\n",
       "    <tr>\n",
       "      <th>4</th>\n",
       "      <td>TV Movie</td>\n",
       "    </tr>\n",
       "    <tr>\n",
       "      <th>5</th>\n",
       "      <td>War</td>\n",
       "    </tr>\n",
       "    <tr>\n",
       "      <th>6</th>\n",
       "      <td>Mystery</td>\n",
       "    </tr>\n",
       "    <tr>\n",
       "      <th>7</th>\n",
       "      <td>Fantasy</td>\n",
       "    </tr>\n",
       "    <tr>\n",
       "      <th>8</th>\n",
       "      <td>Science Fiction</td>\n",
       "    </tr>\n",
       "    <tr>\n",
       "      <th>9</th>\n",
       "      <td>Foreign</td>\n",
       "    </tr>\n",
       "    <tr>\n",
       "      <th>10</th>\n",
       "      <td>Comedy</td>\n",
       "    </tr>\n",
       "    <tr>\n",
       "      <th>11</th>\n",
       "      <td>Western</td>\n",
       "    </tr>\n",
       "    <tr>\n",
       "      <th>12</th>\n",
       "      <td>Action</td>\n",
       "    </tr>\n",
       "    <tr>\n",
       "      <th>13</th>\n",
       "      <td>Horror</td>\n",
       "    </tr>\n",
       "    <tr>\n",
       "      <th>14</th>\n",
       "      <td>Drama</td>\n",
       "    </tr>\n",
       "    <tr>\n",
       "      <th>15</th>\n",
       "      <td>Documentary</td>\n",
       "    </tr>\n",
       "    <tr>\n",
       "      <th>16</th>\n",
       "      <td>Music</td>\n",
       "    </tr>\n",
       "    <tr>\n",
       "      <th>17</th>\n",
       "      <td>Thriller</td>\n",
       "    </tr>\n",
       "    <tr>\n",
       "      <th>18</th>\n",
       "      <td>Romance</td>\n",
       "    </tr>\n",
       "    <tr>\n",
       "      <th>19</th>\n",
       "      <td>Animation</td>\n",
       "    </tr>\n",
       "  </tbody>\n",
       "</table>\n",
       "</div>"
      ],
      "text/plain": [
       "      Unique Genres\n",
       "0            Family\n",
       "1         Adventure\n",
       "2             Crime\n",
       "3           History\n",
       "4          TV Movie\n",
       "5               War\n",
       "6           Mystery\n",
       "7           Fantasy\n",
       "8   Science Fiction\n",
       "9           Foreign\n",
       "10           Comedy\n",
       "11          Western\n",
       "12           Action\n",
       "13           Horror\n",
       "14            Drama\n",
       "15      Documentary\n",
       "16            Music\n",
       "17         Thriller\n",
       "18          Romance\n",
       "19        Animation"
      ]
     },
     "execution_count": 47,
     "metadata": {},
     "output_type": "execute_result"
    }
   ],
   "source": [
    "#create a list of genres and using .iterrow() method to iterate over genres column\n",
    "# .iterrow() --->> same as enumerate() its compulsory to use it in case of DataFrame\n",
    "gen_list=[]\n",
    "for index,row in no_na_genres.iterrows():\n",
    "  genre = no_na_genres.loc[index,'genres']\n",
    "  for k in genre:\n",
    "    gen_list.append(k['name'])\n",
    "\n",
    "#unique list of genres are:\n",
    "pd.DataFrame(set(gen_list),columns=['Unique Genres'])"
   ]
  },
  {
   "cell_type": "markdown",
   "id": "a840badc",
   "metadata": {},
   "source": [
    "#### Q4.Make a table of all the producers and directors of each movie. Find the top 3 producers who have produced movies with the highest average RoI?"
   ]
  },
  {
   "cell_type": "code",
   "execution_count": 48,
   "id": "ded50a31",
   "metadata": {},
   "outputs": [],
   "source": [
    "#considering only those rows in crew column which have no null values\n",
    "no_na_crew = imdb_df_new[~imdb_df_new['crew'].isna()]"
   ]
  },
  {
   "cell_type": "code",
   "execution_count": 49,
   "id": "8086604f",
   "metadata": {},
   "outputs": [
    {
     "data": {
      "text/plain": [
       "(2984, 25)"
      ]
     },
     "execution_count": 49,
     "metadata": {},
     "output_type": "execute_result"
    }
   ],
   "source": [
    "no_na_crew.shape"
   ]
  },
  {
   "cell_type": "code",
   "execution_count": 50,
   "id": "d8693a19",
   "metadata": {},
   "outputs": [],
   "source": [
    "#A simple function to extract list of all producers for a given movie_index\n",
    "def create_producer_list(index):\n",
    "  movie_index = no_na_crew.iloc[index]\n",
    "  crew_list= movie_index.loc['crew']\n",
    "  producer_list=[]\n",
    "  for elem in crew_list:\n",
    "     if elem['job']=='Producer':\n",
    "        producer_list.append(elem['name'])\n",
    "  return producer_list"
   ]
  },
  {
   "cell_type": "code",
   "execution_count": 51,
   "id": "5fec0630",
   "metadata": {},
   "outputs": [
    {
     "data": {
      "text/plain": [
       "['James Hill']"
      ]
     },
     "execution_count": 51,
     "metadata": {},
     "output_type": "execute_result"
    }
   ],
   "source": [
    "create_producer_list(61)"
   ]
  },
  {
   "cell_type": "code",
   "execution_count": 52,
   "id": "2f6327f5",
   "metadata": {},
   "outputs": [],
   "source": [
    "#A simple function to extract names of all directors for a given movie_index\n",
    "#each movie has only one director\n",
    "def create_director(index):\n",
    "  movie_index = no_na_crew.iloc[index]\n",
    "  crew_list= movie_index.loc['crew']\n",
    "\n",
    "  for elem in crew_list:\n",
    "     if elem['job']=='Director':\n",
    "        return elem['name']"
   ]
  },
  {
   "cell_type": "code",
   "execution_count": 53,
   "id": "88f076c9",
   "metadata": {},
   "outputs": [
    {
     "data": {
      "text/plain": [
       "'Carol Reed'"
      ]
     },
     "execution_count": 53,
     "metadata": {},
     "output_type": "execute_result"
    }
   ],
   "source": [
    "create_director(61)"
   ]
  },
  {
   "cell_type": "code",
   "execution_count": 54,
   "id": "337f3434",
   "metadata": {},
   "outputs": [],
   "source": [
    "#create a empty DataFrame with required Column names in which we will append data later\n",
    "Table = pd.DataFrame(columns=['Movie Title','Producers','Directors','ROI'])"
   ]
  },
  {
   "cell_type": "markdown",
   "id": "a29b8c4e",
   "metadata": {},
   "source": [
    "#### appending in Table Df and using Try Except block to bypass error because some values of the crew dictionaries contain float as value"
   ]
  },
  {
   "cell_type": "code",
   "execution_count": 55,
   "id": "3c1838dc",
   "metadata": {},
   "outputs": [],
   "source": [
    "for index,row in no_na_crew.iterrows():\n",
    "\n",
    "  try:\n",
    "      Table = Table.append({'Movie Title':no_na_crew.loc[index,'original_title'],'Producers':create_producer_list(index),'Directors':create_director(index),'ROI':no_na_crew.loc[index,'roi']},ignore_index=True)\n",
    "  except:\n",
    "    continue"
   ]
  },
  {
   "cell_type": "markdown",
   "id": "42161072",
   "metadata": {},
   "source": [
    "#### Table containing columns of Movie Title,its Producers\n",
    "#### Directors and ROI"
   ]
  },
  {
   "cell_type": "code",
   "execution_count": 56,
   "id": "55ce4f4a",
   "metadata": {},
   "outputs": [
    {
     "data": {
      "text/html": [
       "<div>\n",
       "<style scoped>\n",
       "    .dataframe tbody tr th:only-of-type {\n",
       "        vertical-align: middle;\n",
       "    }\n",
       "\n",
       "    .dataframe tbody tr th {\n",
       "        vertical-align: top;\n",
       "    }\n",
       "\n",
       "    .dataframe thead th {\n",
       "        text-align: right;\n",
       "    }\n",
       "</style>\n",
       "<table border=\"1\" class=\"dataframe\">\n",
       "  <thead>\n",
       "    <tr style=\"text-align: right;\">\n",
       "      <th></th>\n",
       "      <th>Movie Title</th>\n",
       "      <th>Producers</th>\n",
       "      <th>Directors</th>\n",
       "      <th>ROI</th>\n",
       "    </tr>\n",
       "  </thead>\n",
       "  <tbody>\n",
       "    <tr>\n",
       "      <th>0</th>\n",
       "      <td>Hot Tub Time Machine 2</td>\n",
       "      <td>[Andrew Panay]</td>\n",
       "      <td>Steve Pink</td>\n",
       "      <td>-12.038207</td>\n",
       "    </tr>\n",
       "    <tr>\n",
       "      <th>1</th>\n",
       "      <td>The Princess Diaries 2: Royal Engagement</td>\n",
       "      <td>[Whitney Houston, Mario Iscovich, Debra Martin...</td>\n",
       "      <td>Garry Marshall</td>\n",
       "      <td>137.873588</td>\n",
       "    </tr>\n",
       "    <tr>\n",
       "      <th>2</th>\n",
       "      <td>Whiplash</td>\n",
       "      <td>[David Lancaster, Michel Litvak, Jason Blum, H...</td>\n",
       "      <td>Damien Chazelle</td>\n",
       "      <td>296.727273</td>\n",
       "    </tr>\n",
       "    <tr>\n",
       "      <th>3</th>\n",
       "      <td>Kahaani</td>\n",
       "      <td>[Sujoy Ghosh]</td>\n",
       "      <td>Sujoy Ghosh</td>\n",
       "      <td>1233.333333</td>\n",
       "    </tr>\n",
       "    <tr>\n",
       "      <th>4</th>\n",
       "      <td>마린보이</td>\n",
       "      <td>[]</td>\n",
       "      <td>Jong-seok Yoon</td>\n",
       "      <td>-50.950375</td>\n",
       "    </tr>\n",
       "    <tr>\n",
       "      <th>5</th>\n",
       "      <td>Pinocchio and the Emperor of the Night</td>\n",
       "      <td>[]</td>\n",
       "      <td>Hal Sutherland</td>\n",
       "      <td>-59.229525</td>\n",
       "    </tr>\n",
       "    <tr>\n",
       "      <th>6</th>\n",
       "      <td>The Possession</td>\n",
       "      <td>[]</td>\n",
       "      <td>Ole Bornedal</td>\n",
       "      <td>510.329107</td>\n",
       "    </tr>\n",
       "    <tr>\n",
       "      <th>7</th>\n",
       "      <td>Control Room</td>\n",
       "      <td>[]</td>\n",
       "      <td>Jehane Noujaim</td>\n",
       "      <td>-67.668613</td>\n",
       "    </tr>\n",
       "    <tr>\n",
       "      <th>8</th>\n",
       "      <td>Muppet Treasure Island</td>\n",
       "      <td>[Frank Oz, Brian Henson]</td>\n",
       "      <td>Brian Henson</td>\n",
       "      <td>329.092387</td>\n",
       "    </tr>\n",
       "    <tr>\n",
       "      <th>9</th>\n",
       "      <td>A Mighty Wind</td>\n",
       "      <td>[Karen Murphy]</td>\n",
       "      <td>Christopher Guest</td>\n",
       "      <td>212.504100</td>\n",
       "    </tr>\n",
       "  </tbody>\n",
       "</table>\n",
       "</div>"
      ],
      "text/plain": [
       "                                Movie Title  \\\n",
       "0                    Hot Tub Time Machine 2   \n",
       "1  The Princess Diaries 2: Royal Engagement   \n",
       "2                                  Whiplash   \n",
       "3                                   Kahaani   \n",
       "4                                      마린보이   \n",
       "5    Pinocchio and the Emperor of the Night   \n",
       "6                            The Possession   \n",
       "7                              Control Room   \n",
       "8                    Muppet Treasure Island   \n",
       "9                             A Mighty Wind   \n",
       "\n",
       "                                           Producers          Directors  \\\n",
       "0                                     [Andrew Panay]         Steve Pink   \n",
       "1  [Whitney Houston, Mario Iscovich, Debra Martin...     Garry Marshall   \n",
       "2  [David Lancaster, Michel Litvak, Jason Blum, H...    Damien Chazelle   \n",
       "3                                      [Sujoy Ghosh]        Sujoy Ghosh   \n",
       "4                                                 []     Jong-seok Yoon   \n",
       "5                                                 []     Hal Sutherland   \n",
       "6                                                 []       Ole Bornedal   \n",
       "7                                                 []     Jehane Noujaim   \n",
       "8                           [Frank Oz, Brian Henson]       Brian Henson   \n",
       "9                                     [Karen Murphy]  Christopher Guest   \n",
       "\n",
       "           ROI  \n",
       "0   -12.038207  \n",
       "1   137.873588  \n",
       "2   296.727273  \n",
       "3  1233.333333  \n",
       "4   -50.950375  \n",
       "5   -59.229525  \n",
       "6   510.329107  \n",
       "7   -67.668613  \n",
       "8   329.092387  \n",
       "9   212.504100  "
      ]
     },
     "execution_count": 56,
     "metadata": {},
     "output_type": "execute_result"
    }
   ],
   "source": [
    "Table.head(10)"
   ]
  },
  {
   "cell_type": "markdown",
   "id": "27fc2393",
   "metadata": {},
   "source": [
    "#### Q5.Which actor has acted in the most number of movies? Deep dive into the movies, genres and profits corresponding to this actor."
   ]
  },
  {
   "cell_type": "code",
   "execution_count": 57,
   "id": "38ece02c",
   "metadata": {},
   "outputs": [],
   "source": [
    "#considering only those rows in cast column which have no null values\n",
    "no_na_cast = imdb_df_new[~imdb_df_new['cast'].isna()]"
   ]
  },
  {
   "cell_type": "code",
   "execution_count": 58,
   "id": "426f1f80",
   "metadata": {},
   "outputs": [
    {
     "data": {
      "text/plain": [
       "'Rob Corddry'"
      ]
     },
     "execution_count": 58,
     "metadata": {},
     "output_type": "execute_result"
    }
   ],
   "source": [
    "no_na_cast.loc[0,'cast'][0]['name']"
   ]
  },
  {
   "cell_type": "code",
   "execution_count": 59,
   "id": "c59d3743",
   "metadata": {},
   "outputs": [],
   "source": [
    "actor_list=[]\n",
    "for index,row in no_na_cast.iterrows():\n",
    "  for iter in no_na_cast.loc[index,'cast']:\n",
    "    if type(iter)== dict:\n",
    "      actor= iter['name']\n",
    "      actor_list.append(actor)"
   ]
  },
  {
   "cell_type": "code",
   "execution_count": 60,
   "id": "bd1ce698",
   "metadata": {},
   "outputs": [],
   "source": [
    "#create a  DataFrame with actor list\n",
    "Actor_Table = pd.DataFrame(actor_list,columns=['Name of Actor'])"
   ]
  },
  {
   "cell_type": "code",
   "execution_count": 61,
   "id": "3a747dd8",
   "metadata": {},
   "outputs": [
    {
     "data": {
      "text/plain": [
       "(61811, 1)"
      ]
     },
     "execution_count": 61,
     "metadata": {},
     "output_type": "execute_result"
    }
   ],
   "source": [
    "Actor_Table.shape"
   ]
  },
  {
   "cell_type": "code",
   "execution_count": 62,
   "id": "0c6f9c3f",
   "metadata": {},
   "outputs": [
    {
     "data": {
      "text/html": [
       "<div>\n",
       "<style scoped>\n",
       "    .dataframe tbody tr th:only-of-type {\n",
       "        vertical-align: middle;\n",
       "    }\n",
       "\n",
       "    .dataframe tbody tr th {\n",
       "        vertical-align: top;\n",
       "    }\n",
       "\n",
       "    .dataframe thead th {\n",
       "        text-align: right;\n",
       "    }\n",
       "</style>\n",
       "<table border=\"1\" class=\"dataframe\">\n",
       "  <thead>\n",
       "    <tr style=\"text-align: right;\">\n",
       "      <th></th>\n",
       "      <th>Name of Actor</th>\n",
       "    </tr>\n",
       "  </thead>\n",
       "  <tbody>\n",
       "    <tr>\n",
       "      <th>0</th>\n",
       "      <td>Rob Corddry</td>\n",
       "    </tr>\n",
       "    <tr>\n",
       "      <th>1</th>\n",
       "      <td>Craig Robinson</td>\n",
       "    </tr>\n",
       "    <tr>\n",
       "      <th>2</th>\n",
       "      <td>Clark Duke</td>\n",
       "    </tr>\n",
       "    <tr>\n",
       "      <th>3</th>\n",
       "      <td>Adam Scott</td>\n",
       "    </tr>\n",
       "    <tr>\n",
       "      <th>4</th>\n",
       "      <td>Chevy Chase</td>\n",
       "    </tr>\n",
       "  </tbody>\n",
       "</table>\n",
       "</div>"
      ],
      "text/plain": [
       "    Name of Actor\n",
       "0     Rob Corddry\n",
       "1  Craig Robinson\n",
       "2      Clark Duke\n",
       "3      Adam Scott\n",
       "4     Chevy Chase"
      ]
     },
     "execution_count": 62,
     "metadata": {},
     "output_type": "execute_result"
    }
   ],
   "source": [
    "Actor_Table.head()"
   ]
  },
  {
   "cell_type": "code",
   "execution_count": 63,
   "id": "30099df5",
   "metadata": {},
   "outputs": [
    {
     "data": {
      "text/html": [
       "<div>\n",
       "<style scoped>\n",
       "    .dataframe tbody tr th:only-of-type {\n",
       "        vertical-align: middle;\n",
       "    }\n",
       "\n",
       "    .dataframe tbody tr th {\n",
       "        vertical-align: top;\n",
       "    }\n",
       "\n",
       "    .dataframe thead th {\n",
       "        text-align: right;\n",
       "    }\n",
       "</style>\n",
       "<table border=\"1\" class=\"dataframe\">\n",
       "  <thead>\n",
       "    <tr style=\"text-align: right;\">\n",
       "      <th></th>\n",
       "      <th>Name of Actor</th>\n",
       "      <th>0</th>\n",
       "    </tr>\n",
       "  </thead>\n",
       "  <tbody>\n",
       "    <tr>\n",
       "      <th>0</th>\n",
       "      <td>Samuel L. Jackson</td>\n",
       "      <td>30</td>\n",
       "    </tr>\n",
       "    <tr>\n",
       "      <th>1</th>\n",
       "      <td>Robert De Niro</td>\n",
       "      <td>30</td>\n",
       "    </tr>\n",
       "    <tr>\n",
       "      <th>2</th>\n",
       "      <td>Morgan Freeman</td>\n",
       "      <td>27</td>\n",
       "    </tr>\n",
       "    <tr>\n",
       "      <th>3</th>\n",
       "      <td>Liam Neeson</td>\n",
       "      <td>25</td>\n",
       "    </tr>\n",
       "    <tr>\n",
       "      <th>4</th>\n",
       "      <td>Susan Sarandon</td>\n",
       "      <td>25</td>\n",
       "    </tr>\n",
       "  </tbody>\n",
       "</table>\n",
       "</div>"
      ],
      "text/plain": [
       "       Name of Actor   0\n",
       "0  Samuel L. Jackson  30\n",
       "1     Robert De Niro  30\n",
       "2     Morgan Freeman  27\n",
       "3        Liam Neeson  25\n",
       "4     Susan Sarandon  25"
      ]
     },
     "execution_count": 63,
     "metadata": {},
     "output_type": "execute_result"
    }
   ],
   "source": [
    "#sorting the actors using groupby function\n",
    "Actor_Table.value_counts().reset_index().head()"
   ]
  },
  {
   "cell_type": "markdown",
   "id": "69d19737",
   "metadata": {},
   "source": [
    "### Actors who have done maximum movies are:"
   ]
  },
  {
   "cell_type": "code",
   "execution_count": 64,
   "id": "440e267c",
   "metadata": {},
   "outputs": [
    {
     "name": "stdout",
     "output_type": "stream",
     "text": [
      "Samuel L. Jackson and Robert De Niro both have done 30 films\n"
     ]
    }
   ],
   "source": [
    "print('Samuel L. Jackson and Robert De Niro both have done 30 films')"
   ]
  },
  {
   "cell_type": "code",
   "execution_count": 65,
   "id": "a52e6611",
   "metadata": {},
   "outputs": [],
   "source": [
    "\n",
    "profit1=[]\n",
    "profit2=[]\n",
    "movie1=[]\n",
    "movie2=[]\n",
    "for index,row in no_na_cast.iterrows():\n",
    "  for iter in no_na_cast.loc[index,'cast']:\n",
    "    if type(iter)== dict:\n",
    "      actor= iter['name']\n",
    "      if 'Robert De Niro' in actor:\n",
    "        profit1.append(no_na_cast.loc[index,'profit'])\n",
    "        movie1.append(no_na_cast.loc[index,'original_title'])\n",
    "\n",
    "\n",
    "\n",
    "\n",
    "      if 'Samuel L. Jackson' in actor:\n",
    "        profit2.append(no_na_cast.loc[index,'profit'])\n",
    "        movie2.append(no_na_cast.loc[index,'original_title'])\n"
   ]
  },
  {
   "cell_type": "code",
   "execution_count": 66,
   "id": "8895a2f1",
   "metadata": {},
   "outputs": [],
   "source": [
    "#creating a loop to get the genres for Robert and Samuel\n",
    "gener_r=[]\n",
    "a=[]\n",
    "for i in range(len(movie1)):\n",
    "  for g in no_na_cast.loc[i,'genres']:\n",
    "    a.append(g['name'])\n",
    "\n",
    "  gener_r.append(a)\n",
    "  a=[]\n",
    "\n",
    "gener_s=[]\n",
    "b=[]\n",
    "for i in range(len(movie2)):\n",
    "  for g in no_na_cast.loc[i,'genres']:\n",
    "    b.append(g['name'])\n",
    "\n",
    "  gener_s.append(b)\n",
    "  b=[]\n"
   ]
  },
  {
   "cell_type": "code",
   "execution_count": 67,
   "id": "9741534b",
   "metadata": {},
   "outputs": [
    {
     "name": "stderr",
     "output_type": "stream",
     "text": [
      "C:\\Users\\malik\\AppData\\Local\\Temp\\ipykernel_7576\\821724240.py:1: VisibleDeprecationWarning: Creating an ndarray from ragged nested sequences (which is a list-or-tuple of lists-or-tuples-or ndarrays with different lengths or shapes) is deprecated. If you meant to do this, you must specify 'dtype=object' when creating the ndarray.\n",
      "  genr = np.array(gener_r)\n",
      "C:\\Users\\malik\\AppData\\Local\\Temp\\ipykernel_7576\\821724240.py:2: VisibleDeprecationWarning: Creating an ndarray from ragged nested sequences (which is a list-or-tuple of lists-or-tuples-or ndarrays with different lengths or shapes) is deprecated. If you meant to do this, you must specify 'dtype=object' when creating the ndarray.\n",
      "  gens = np.array(gener_s)\n"
     ]
    }
   ],
   "source": [
    "genr = np.array(gener_r)\n",
    "gens = np.array(gener_s)"
   ]
  },
  {
   "cell_type": "code",
   "execution_count": 68,
   "id": "152b3dd7",
   "metadata": {},
   "outputs": [],
   "source": [
    "#creating sub dataframe for Robert\n",
    "mov1= pd.DataFrame(movie1,columns=['Movie Name'])\n",
    "prof1=pd.DataFrame(profit1,columns=['Movie Profit'])\n",
    "gen1= pd.DataFrame(genr.flatten(),columns=['Genres'])"
   ]
  },
  {
   "cell_type": "code",
   "execution_count": 69,
   "id": "75e10124",
   "metadata": {},
   "outputs": [],
   "source": [
    "Movies_by_Robert=pd.concat([mov1,gen1,prof1],axis=1)"
   ]
  },
  {
   "cell_type": "markdown",
   "id": "47f59f26",
   "metadata": {},
   "source": [
    "#### Movies by Robert De Niro"
   ]
  },
  {
   "cell_type": "code",
   "execution_count": 70,
   "id": "d6feee81",
   "metadata": {},
   "outputs": [
    {
     "data": {
      "text/html": [
       "<div>\n",
       "<style scoped>\n",
       "    .dataframe tbody tr th:only-of-type {\n",
       "        vertical-align: middle;\n",
       "    }\n",
       "\n",
       "    .dataframe tbody tr th {\n",
       "        vertical-align: top;\n",
       "    }\n",
       "\n",
       "    .dataframe thead th {\n",
       "        text-align: right;\n",
       "    }\n",
       "</style>\n",
       "<table border=\"1\" class=\"dataframe\">\n",
       "  <thead>\n",
       "    <tr style=\"text-align: right;\">\n",
       "      <th></th>\n",
       "      <th>Movie Name</th>\n",
       "      <th>Genres</th>\n",
       "      <th>Movie Profit</th>\n",
       "    </tr>\n",
       "  </thead>\n",
       "  <tbody>\n",
       "    <tr>\n",
       "      <th>8</th>\n",
       "      <td>Meet the Parents</td>\n",
       "      <td>[Action, Comedy, Music, Family, Adventure]</td>\n",
       "      <td>275444045</td>\n",
       "    </tr>\n",
       "    <tr>\n",
       "      <th>16</th>\n",
       "      <td>American Hustle</td>\n",
       "      <td>[Horror, Thriller]</td>\n",
       "      <td>211171807</td>\n",
       "    </tr>\n",
       "    <tr>\n",
       "      <th>10</th>\n",
       "      <td>Sleepers</td>\n",
       "      <td>[Drama]</td>\n",
       "      <td>121615285</td>\n",
       "    </tr>\n",
       "    <tr>\n",
       "      <th>26</th>\n",
       "      <td>Analyze This</td>\n",
       "      <td>[Crime, Drama, Mystery, Thriller]</td>\n",
       "      <td>96885658</td>\n",
       "    </tr>\n",
       "    <tr>\n",
       "      <th>29</th>\n",
       "      <td>Backdraft</td>\n",
       "      <td>[Action, Adventure, Crime, Thriller]</td>\n",
       "      <td>77368585</td>\n",
       "    </tr>\n",
       "  </tbody>\n",
       "</table>\n",
       "</div>"
      ],
      "text/plain": [
       "          Movie Name                                      Genres  Movie Profit\n",
       "8   Meet the Parents  [Action, Comedy, Music, Family, Adventure]     275444045\n",
       "16   American Hustle                          [Horror, Thriller]     211171807\n",
       "10          Sleepers                                     [Drama]     121615285\n",
       "26      Analyze This           [Crime, Drama, Mystery, Thriller]      96885658\n",
       "29         Backdraft        [Action, Adventure, Crime, Thriller]      77368585"
      ]
     },
     "execution_count": 70,
     "metadata": {},
     "output_type": "execute_result"
    }
   ],
   "source": [
    "Movies_by_Robert.sort_values(by='Movie Profit',ascending=False).head()"
   ]
  },
  {
   "cell_type": "code",
   "execution_count": 71,
   "id": "1da7e6e6",
   "metadata": {},
   "outputs": [],
   "source": [
    "#creating sub dataframe for Samuel\n",
    "mov2= pd.DataFrame(movie2,columns=['Movie Name'])\n",
    "prof2=pd.DataFrame(profit2,columns=['Movie Profit'])\n",
    "gen2= pd.DataFrame(gens.flatten(),columns=['Genres'])"
   ]
  },
  {
   "cell_type": "code",
   "execution_count": 72,
   "id": "69037243",
   "metadata": {},
   "outputs": [],
   "source": [
    "Movies_by_Samuel=pd.concat([mov1,gen1,prof1],axis=1)"
   ]
  },
  {
   "cell_type": "markdown",
   "id": "53f277e7",
   "metadata": {},
   "source": [
    "### Movies by Samuel L jackson"
   ]
  },
  {
   "cell_type": "code",
   "execution_count": 73,
   "id": "6bd1b0c4",
   "metadata": {},
   "outputs": [
    {
     "data": {
      "text/html": [
       "<div>\n",
       "<style scoped>\n",
       "    .dataframe tbody tr th:only-of-type {\n",
       "        vertical-align: middle;\n",
       "    }\n",
       "\n",
       "    .dataframe tbody tr th {\n",
       "        vertical-align: top;\n",
       "    }\n",
       "\n",
       "    .dataframe thead th {\n",
       "        text-align: right;\n",
       "    }\n",
       "</style>\n",
       "<table border=\"1\" class=\"dataframe\">\n",
       "  <thead>\n",
       "    <tr style=\"text-align: right;\">\n",
       "      <th></th>\n",
       "      <th>Movie Name</th>\n",
       "      <th>Genres</th>\n",
       "      <th>Movie Profit</th>\n",
       "    </tr>\n",
       "  </thead>\n",
       "  <tbody>\n",
       "    <tr>\n",
       "      <th>8</th>\n",
       "      <td>Meet the Parents</td>\n",
       "      <td>[Action, Comedy, Music, Family, Adventure]</td>\n",
       "      <td>275444045</td>\n",
       "    </tr>\n",
       "    <tr>\n",
       "      <th>16</th>\n",
       "      <td>American Hustle</td>\n",
       "      <td>[Horror, Thriller]</td>\n",
       "      <td>211171807</td>\n",
       "    </tr>\n",
       "    <tr>\n",
       "      <th>10</th>\n",
       "      <td>Sleepers</td>\n",
       "      <td>[Drama]</td>\n",
       "      <td>121615285</td>\n",
       "    </tr>\n",
       "    <tr>\n",
       "      <th>26</th>\n",
       "      <td>Analyze This</td>\n",
       "      <td>[Crime, Drama, Mystery, Thriller]</td>\n",
       "      <td>96885658</td>\n",
       "    </tr>\n",
       "    <tr>\n",
       "      <th>29</th>\n",
       "      <td>Backdraft</td>\n",
       "      <td>[Action, Adventure, Crime, Thriller]</td>\n",
       "      <td>77368585</td>\n",
       "    </tr>\n",
       "  </tbody>\n",
       "</table>\n",
       "</div>"
      ],
      "text/plain": [
       "          Movie Name                                      Genres  Movie Profit\n",
       "8   Meet the Parents  [Action, Comedy, Music, Family, Adventure]     275444045\n",
       "16   American Hustle                          [Horror, Thriller]     211171807\n",
       "10          Sleepers                                     [Drama]     121615285\n",
       "26      Analyze This           [Crime, Drama, Mystery, Thriller]      96885658\n",
       "29         Backdraft        [Action, Adventure, Crime, Thriller]      77368585"
      ]
     },
     "execution_count": 73,
     "metadata": {},
     "output_type": "execute_result"
    }
   ],
   "source": [
    "Movies_by_Samuel.sort_values(by='Movie Profit',ascending=False).head()"
   ]
  },
  {
   "cell_type": "code",
   "execution_count": null,
   "id": "3acec1ff",
   "metadata": {},
   "outputs": [],
   "source": []
  },
  {
   "cell_type": "code",
   "execution_count": null,
   "id": "442f4c2b",
   "metadata": {},
   "outputs": [],
   "source": []
  },
  {
   "cell_type": "code",
   "execution_count": null,
   "id": "04a10c86",
   "metadata": {},
   "outputs": [],
   "source": []
  }
 ],
 "metadata": {
  "kernelspec": {
   "display_name": "Python 3 (ipykernel)",
   "language": "python",
   "name": "python3"
  },
  "language_info": {
   "codemirror_mode": {
    "name": "ipython",
    "version": 3
   },
   "file_extension": ".py",
   "mimetype": "text/x-python",
   "name": "python",
   "nbconvert_exporter": "python",
   "pygments_lexer": "ipython3",
   "version": "3.9.1"
  }
 },
 "nbformat": 4,
 "nbformat_minor": 5
}
