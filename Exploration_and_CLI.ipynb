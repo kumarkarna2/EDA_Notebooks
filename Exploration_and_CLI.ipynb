{
  "cells": [
    {
      "cell_type": "markdown",
      "metadata": {
        "id": "HxpnRvs1y8dT"
      },
      "source": [
        "# **What is Data**"
      ]
    },
    {
      "cell_type": "markdown",
      "metadata": {
        "id": "hdlp0-bGzBCb"
      },
      "source": [
        "In the context of data analysis, \"data\" refers to raw information collected from various sources that a data analyst processes, analyzes, interprets, and visualizes to derive meaningful insights, trends, patterns, and correlations. This information can be qualitative (non-numerical) or quantitative (numerical) and may come from surveys, experiments, transaction records, logs, sensors, and other means of collection relevant to the study or business needs"
      ]
    },
    {
      "cell_type": "markdown",
      "metadata": {
        "id": "fQsZzdoXzoDn"
      },
      "source": [
        "## **What is EDA?**"
      ]
    },
    {
      "cell_type": "markdown",
      "metadata": {
        "id": "RJvZwQ558sjz"
      },
      "source": [
        "**Let's use a real-life example of planning a vacation to explain Exploratory Data Analysis (EDA).**\n",
        "\n",
        "Imagine you're planning a trip to Italy. You have various pieces of information (data) like flight prices over several months, hotel rates, places of interest, average meal costs, and weather conditions. Your goal is to have the best experience within your budget.\n",
        "\n",
        "- Collecting Information (Gathering Data): You start by gathering all the data you can find about Italy - flight and hotel prices, weather conditions by month, popular destinations, and daily expenses.\n",
        "\n",
        "- First Look (Initial Examination): You quickly glance through the information to get a basic idea of costs, weather, etc. This is like looking at your dataset for the first time to understand what kind of data you have (numerical, categorical, dates, etc.).\n",
        "\n",
        "- Cleaning and Organizing (Data Cleaning): You notice some of the hotel prices are missing, and the weather data is in Fahrenheit while you prefer Celsius. So, you fill in the missing prices with average values and convert the weather data to Celsius. This is the data cleaning process.\n",
        "\n",
        "- Deep Dive (In-depth Analysis): Now, you start looking closely. You plot the flight prices over the months to see when it's cheapest to fly. You also look at hotel rates alongside tourist seasons to find the best time for lower prices with good weather. This is akin to EDA, where you use graphs and statistics to deeply understand your data.\n",
        "\n",
        "- Spotting Patterns (Identifying Trends): You find that flight prices drop in early spring and late autumn, which also matches with mild weather and fewer tourists. Hotel prices are lowest in these periods too. Spotting such patterns is a crucial part of EDA, helping you make informed decisions based on trends.\n",
        "\n",
        "- Making Decisions (Drawing Conclusions): Based on your analysis, you decide that late autumn is the best time for your trip. You get reasonable flight and hotel rates, the weather is comfortable, and there are fewer tourists. EDA in data science similarly helps you make decisions by understanding the data's story.\n",
        "\n",
        "- Adjusting Plans (Iterative Analysis): While booking, you find a famous festival happening in a region you hadn't considered, which could offer a unique experience. You decide to adjust your plans to include it. In real EDA, new insights or data can lead you to revisit your analysis, refining your understanding and decisions.\n",
        "\n",
        "In this example, the \"data\" includes flight and hotel prices, weather conditions, etc. EDA processes like initial examination, cleaning, in-depth analysis, identifying trends, and making informed decisions mirror the steps you'd take in planning a meticulously researched trip, ensuring you get the most out of the experience within your constraints"
      ]
    },
    {
      "cell_type": "markdown",
      "metadata": {
        "id": "C_EaQfz6nraC"
      },
      "source": [
        "### **Introduction to Version Control**\n",
        "\n",
        "\n",
        "\n"
      ]
    },
    {
      "cell_type": "markdown",
      "metadata": {
        "id": "Mu2tdxO6pGr5"
      },
      "source": [
        "Imagine you're working on a collaborative data analysis project with your team. Each team member is responsible for analyzing different aspects of the dataset, such as demographics, sales trends, and customer behavior.\n",
        "\n",
        "Without version control:\n",
        "\n",
        "Analyst A starts analyzing demographic data and makes significant changes to the dataset structure and cleaning process.\n",
        "\n",
        "Meanwhile, Analyst B is working on sales trends and modifies some shared scripts to calculate certain metrics.\n",
        "\n",
        "Analyst C is responsible for customer behavior analysis and makes changes to the dataset filtering criteria and statistical models.\n",
        "\n",
        "After a few days of independent work, the team gathers to integrate their analyses into the final report. They realize there are conflicts and inconsistencies in the analyses. Some changes made by Analyst A conflict with modifications made by Analyst B and Analyst C. It becomes challenging to determine which changes should be kept and how to merge them correctly.\n",
        "\n",
        " version control in data analysis helps track changes made by each team member, allows for easy collaboration, and minimizes conflicts and inconsistencies when integrating analyses into the final report"
      ]
    },
    {
      "cell_type": "markdown",
      "metadata": {
        "id": "_6Pddco4pa6b"
      },
      "source": [
        "### **With version control (e.g., Git):**\n",
        "Version control is like having a time machine for your code or data analysis project. It allows you to track changes made to files over time, collaborate effectively with team members, and easily revert to previous versions if something goes wrong.\n",
        "\n",
        "Think of it as a system that maintains a history of all modifications made to your project files. Each time you make a change, whether it's adding new features, fixing bugs, or refining analyses, you create a new \"snapshot\" of your project's state. This snapshot is stored along with a message describing the changes you made.\n",
        "\n",
        "With a version control system like Git:\n",
        "\n",
        "- Each team member can work on their own copy of the project without interfering with others' work. They can create a separate branch for their assigned task, allowing them to make changes independently.\n",
        "- As they make progress, they commit their changes to their branch. These commits serve as checkpoints in the project's timeline, documenting the evolution of the code or analysis.\n",
        "- Git keeps track of who made each change and when, providing transparency and accountability within the team.\n",
        "- If conflicts arise when integrating changes from different branches, Git helps resolve them by highlighting the conflicting lines of code or analysis. Team members can then collaborate to merge their changes seamlessly.\n",
        "- The version control system serves as a centralized repository where all project files and their history are stored securely. This ensures that even if something goes wrong, such as accidental deletions or mistakes, you can always roll back to a previous state and restore lost work."
      ]
    },
    {
      "cell_type": "markdown",
      "metadata": {
        "id": "lLmO0tVIpyLj"
      },
      "source": [
        "### **What is version control ?**\n",
        "\n",
        "Version control, also known as source control, is the practice of tracking and managing changes to software code. Version control systems are software tools that help software teams manage changes to source code over time.\n",
        "\n",
        "### **What is Git?**\n",
        "\n",
        "Git is a [free and open source](https://git-scm.com/about/free-and-open-source) distributed version control system designed to handle everything from small to very large projects with speed and efficiency."
      ]
    },
    {
      "cell_type": "markdown",
      "metadata": {
        "id": "BmZRMe8TqK2J"
      },
      "source": [
        "### **Basic Command Lines**\n",
        "\n",
        "Your computer's text interface is called the command line. It is a programme that receives instructions and sends them to the computer's operating system for execution. From the command line, you can navigate through files and folders on your computer, just as you would with Windows Explorer on Windows or Finder on Mac OS.\n",
        "\n",
        "To master the fundamentals of the Unix command, we will utilise git bash in this lesson.\n",
        "\n",
        "### Current working directory\n",
        "\n",
        "The current working directory (CWD) refers to the directory in a file system where a user is currently working within a shell or command-line interface.\n",
        "\n",
        "To know your current directory, you can use the `pwd` command which stands for Print Working Directory.\n",
        "\n",
        "```bash\n",
        "pwd\n",
        "```\n",
        "\n",
        "![Untitled](https://i.ibb.co/31kFsPm/image.png)\n",
        "\n",
        "### Navigating directory\n",
        "\n",
        "You can switch folders with the cd command. You are in your home directory when you launch a terminal. You will use cd to navigate the file system.\n",
        "**To navigate to your home directory, use \"cd\":**\n",
        "\n",
        "```bash\n",
        "cd\n",
        "```\n",
        "\n",
        "![Untitled](https://i.ibb.co/p3t27hb/image.png)\n",
        "\n",
        "You are now in Node Directory as you can see in picture.\n",
        "\n",
        "**To navigate up one directory level, use \"cd ..\":**\n",
        "\n",
        "```bash\n",
        "cd..\n",
        "```\n",
        "\n",
        "![Untitled](https://i.ibb.co/yFZtpxm/image.png)\n",
        "\n",
        "After using cd.. you are now in it’s parent directory as you can see in picture.\n",
        "\n",
        "### Making Directory\n",
        "\n",
        "To create a new directory in a command-line interface or terminal, you can use the **`mkdir`** command (which stands for \"make directory\"). Here's how you can use it:\n",
        "\n",
        "```bash\n",
        "mkdir directory_name\n",
        "```\n",
        "\n",
        "Replace **`directory_name`** with the name you want to give to your new directory. Here are some examples:\n",
        "Before Using **mkdir** the folder look like this :-\n",
        "\n",
        "\n",
        "![](https://i.ibb.co/Ss6yjcV/image.png)\n",
        "\n",
        "\n",
        "\n",
        "**After Using Command:-**\n",
        "\n",
        "![Untitled](https://i.ibb.co/tXR2tB0/image.png)\n",
        "\n",
        "### rmdir\n",
        "\n",
        "The **`rmdir`** command in a command-line interface or terminal is used to remove or delete an empty directory. It's specifically designed to remove directories that do not contain any files or subdirectories.\n",
        "\n",
        "```bash\n",
        "rmdir directory_name\n",
        "```\n",
        "\n",
        "Replace **`directory_name`** with the name of the directory you want to delete. It's important to note that **`rmdir`** only works on empty directories. If the directory contains files or other directories, **`rmdir`** will not delete it and will show an error message.\n",
        "\n",
        "![Untitled](https://i.ibb.co/JnkLh8g/image.png)\n",
        "\n",
        "![Untitled](https://i.ibb.co/CQ43vzS/image.png)\n",
        "\n",
        "![Untitled](https://i.ibb.co/JnCDRBs/image.png)\n",
        "\n",
        "### **ls**\n",
        "\n",
        "The **`ls`** command in a command-line interface or terminal is used to list the contents of a directory. It's an essential command for viewing files and directories within the current working directory or a specified directory.\n",
        "\n",
        "Syntax:\n",
        "\n",
        "```bash\n",
        "ls\n",
        "```\n",
        "\n",
        "![Untitled](https://i.ibb.co/hC35rHy/image.png)\n",
        "\n",
        "## **touch**\n",
        "\n",
        "The **`touch`** command in a Unix-like operating system is used to create empty files or update the timestamps of existing files. Its primary purpose is to modify file timestamps, but if the file doesn't exist, it will create an empty file with the specified name.\n",
        "\n",
        "Its is a very simple to create file in git bash at first write touch then file name with extension.\n",
        "\n",
        "![Untitled](https://i.ibb.co/cTpzC2m/image.png)\n",
        "\n",
        "As you can see, there is day1.txt in the list. That means we have created the day1.txt file inside the Git-course-Geekster folder. You can also you ls command to use the detailed view of the folders and file.\n",
        "\n",
        "## Opening and writing on file\n",
        "\n",
        "Let's open day1.txt and start adding text to it. In order to open and write, we need the 'nano' command.\n",
        "\n",
        "![Untitled](https://i.ibb.co/mhXyf0B/image.png)\n",
        "\n",
        "![Untitled](https://i.ibb.co/1s5b56z/image.png)\n",
        "\n",
        "As you can see from the above figure, the cursor is active and you can write on the pad. You can only use arrow keys to move the cursor left, right, up, and down. Let's write some text on the opened pad. There are instructors at the bottom that tells how to exit. For instance ctrl + x is to exit. When you exit either you save or cancel which comes when you click ctrl + x.\n",
        "\n",
        "![Untitled](https://i.ibb.co/6N0fhvz/image.png)\n",
        "\n",
        "Now you can save the modified file by writing Y or you can cancel it by clicking ctrl + c.\n",
        "After you write Y then click enter.\n",
        "\n",
        "## Opening file to read\n",
        "\n",
        "The 'cat' command can only be used to read files.\n",
        "\n",
        "![Untitled](https://i.ibb.co/N2PDL7L/image.png)\n",
        "\n",
        "## Moving file and directory\n",
        "\n",
        "In Unix-like operating systems, the **`mv`** command is used to move both files and directories. It's also commonly used to rename files or directories by essentially \"moving\" them to a new name within the same directory.\n",
        "\n",
        "The basic syntax for using **`mv`** is:\n",
        "\n",
        "```bash\n",
        "mv source destination\n",
        "```\n",
        "\n",
        "Replace **`source`** with the file or directory you want to move, and **`destination`** with the target location or new name.\n",
        "\n",
        "**Moving a file to another directory:**\n",
        "\n",
        "```bash\n",
        "mv file.txt /path/to/destination/\n",
        "```\n",
        "\n",
        "This command moves **`file.txt`** to the **`/path/to/destination/`** directory.\n",
        "let’s see:-\n",
        "\n",
        "Before Using mv Command\n",
        "\n",
        "![Untitled](https://i.ibb.co/whC9Qgp/image.png)\n",
        "\n",
        "After Using mv Command\n",
        "\n",
        "![Untitled](https://i.ibb.co/McKvVJq/image.png)\n",
        "\n",
        "Output:-\n",
        "\n",
        "![Untitled](https://i.ibb.co/SyzZ0sS/image.png)\n",
        "\n",
        "## Rename a File\n",
        "\n",
        "```bash\n",
        "mv old_name.txt new_name.txt\n",
        "```\n",
        "\n",
        "This command renames **`old_name.txt`** to **`new_name.txt`** within the same directory.\n",
        "Before using the command:-\n",
        "\n",
        "![Untitled](https://i.ibb.co/w0nSwtq/image.png)\n",
        "\n",
        "Renaming the info.txt to data.txt:-\n",
        "\n",
        "![Untitled](https://i.ibb.co/xYh5gHt/image.png)\n",
        "\n",
        "Output:-\n",
        "\n",
        "![Untitled](https://i.ibb.co/Bz9KjbC/image.png)"
      ]
    },
    {
      "cell_type": "markdown",
      "metadata": {
        "id": "2pWgTbFyv4uS"
      },
      "source": [
        "## ClassWork"
      ]
    },
    {
      "cell_type": "markdown",
      "metadata": {
        "id": "udeVusliv9P-"
      },
      "source": [
        "Tasks:\n",
        "- Create a folder called Learn_with_geekster.\n",
        "- Navigate to the Learn_with_geekster folder.\n",
        "- Create a file called first.txt.\n",
        "- Open first.txt file\n",
        "- Add some content in first.txt file\n",
        "- Make one more file named file2.txt\n",
        "- Display all the files in  Learn_with_geekster  folder .\n"
      ]
    }
  ],
  "metadata": {
    "colab": {
      "provenance": []
    },
    "kernelspec": {
      "display_name": "Python 3",
      "name": "python3"
    },
    "language_info": {
      "name": "python"
    }
  },
  "nbformat": 4,
  "nbformat_minor": 0
}
