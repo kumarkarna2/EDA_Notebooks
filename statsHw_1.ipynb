{
 "cells": [
  {
   "cell_type": "markdown",
   "metadata": {},
   "source": [
    "### **Classwork**"
   ]
  },
  {
   "cell_type": "markdown",
   "metadata": {},
   "source": [
    "Q1. Generate a list of 100 random numbers between 0 and 1000.\n",
    "- Find mean of the list of numbers\n",
    "- Find the median of the list of numbers\n",
    "- Find the mode of the list of numbers"
   ]
  },
  {
   "cell_type": "code",
   "execution_count": null,
   "metadata": {},
   "outputs": [],
   "source": []
  },
  {
   "cell_type": "markdown",
   "metadata": {},
   "source": [
    "Q2. Generate two lists, salary and experience, with 100 random values each.\n",
    "find weighted average of salary with experience as weights."
   ]
  },
  {
   "cell_type": "code",
   "execution_count": null,
   "metadata": {},
   "outputs": [],
   "source": []
  },
  {
   "cell_type": "markdown",
   "metadata": {},
   "source": [
    "Q3. Generate a list of 100 random numbers between 0 and 1000.\n",
    "- Find the maximum number in the list\n",
    "- Find the minimum number in the list\n",
    "- Find the 25th percentile\n",
    "- Find the 75th percentile\n",
    "- IQR"
   ]
  },
  {
   "cell_type": "code",
   "execution_count": null,
   "metadata": {},
   "outputs": [],
   "source": []
  },
  {
   "cell_type": "markdown",
   "metadata": {},
   "source": [
    "Q4. Find range, variance and standard deviation of the list of numbers generated in Q3."
   ]
  },
  {
   "cell_type": "code",
   "execution_count": null,
   "metadata": {},
   "outputs": [],
   "source": []
  },
  {
   "cell_type": "markdown",
   "metadata": {},
   "source": [
    "### **Homework**"
   ]
  },
  {
   "cell_type": "markdown",
   "metadata": {},
   "source": [
    "Q1. Generate a list of 100 random numbers between 0 and 1000 using numpy and find mean, median, mode, and range of that list of numbers.\n"
   ]
  },
  {
   "cell_type": "code",
   "execution_count": null,
   "metadata": {},
   "outputs": [],
   "source": [
    "# Write you answer here"
   ]
  },
  {
   "cell_type": "markdown",
   "metadata": {},
   "source": [
    "Q2. Generate a list of 100 random numbers between 0 and 1000 using numpy and find the 10th percentile, 25th percentile, 50th percentile, 75th percentile, and 90th percentile of that list of numbers. Also find IQR of that list of numbers."
   ]
  },
  {
   "cell_type": "code",
   "execution_count": 1,
   "metadata": {},
   "outputs": [],
   "source": [
    "# Write your code here"
   ]
  },
  {
   "cell_type": "markdown",
   "metadata": {},
   "source": [
    "Q3. Generate a list of 100 random float numbers using numpy and find the variance and standard deviation of that list of numbers."
   ]
  },
  {
   "cell_type": "code",
   "execution_count": null,
   "metadata": {},
   "outputs": [],
   "source": [
    "# Write your code here"
   ]
  },
  {
   "cell_type": "markdown",
   "metadata": {},
   "source": [
    "Q4. Given two lists of numbers, the first representing heights and the second representing weights, calculate the weighted mean of the heights, considering the weights.\n",
    "\n",
    "Heights = [174, 178, 152, 161, 163, 159, 160, 150, 165, 164, 156, 175, 171, 175, 167, 180, 175, 150, 160]\n",
    "\n",
    "Weights = [85, 89, 67, 72, 76, 67, 66, 56, 72, 60, 62, 82, 60, 80, 77, 78, 79, 69, 60]\n"
   ]
  }
 ],
 "metadata": {
  "kernelspec": {
   "display_name": "Python 3",
   "language": "python",
   "name": "python3"
  },
  "language_info": {
   "codemirror_mode": {
    "name": "ipython",
    "version": 3
   },
   "file_extension": ".py",
   "mimetype": "text/x-python",
   "name": "python",
   "nbconvert_exporter": "python",
   "pygments_lexer": "ipython3",
   "version": "3.12.2"
  }
 },
 "nbformat": 4,
 "nbformat_minor": 2
}
